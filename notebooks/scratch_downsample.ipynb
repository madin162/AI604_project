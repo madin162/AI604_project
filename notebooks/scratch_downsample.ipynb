{
 "cells": [
  {
   "cell_type": "code",
   "execution_count": 61,
   "metadata": {},
   "outputs": [],
   "source": [
    "import PIL\n",
    "from PIL import Image\n",
    "import math\n",
    "import numpy as np\n",
    "from skimage.util import random_noise\n",
    "import os"
   ]
  },
  {
   "cell_type": "code",
   "execution_count": null,
   "metadata": {},
   "outputs": [],
   "source": [
    "img_path = \"\""
   ]
  },
  {
   "cell_type": "code",
   "execution_count": 20,
   "metadata": {},
   "outputs": [],
   "source": [
    "im = Image.open('maradona.jpeg')"
   ]
  },
  {
   "cell_type": "code",
   "execution_count": 55,
   "metadata": {},
   "outputs": [],
   "source": [
    "def bicubic_downsample(im, factor=4):\n",
    "    width, height = im.size\n",
    "    new_width = int(math.floor(width / factor))\n",
    "    new_height = int(math.floor(height / factor))\n",
    "    im = im.resize((new_width, new_height), resample=PIL.Image.BICUBIC)\n",
    "    # convert to [0.0,1.0]\n",
    "    im = np.array(im)\n",
    "    im = im/255\n",
    "    im = random_noise(im,var=2e-3)\n",
    "    im = random_noise(im,mode='s&p',amount=2e-3)\n",
    "    im = Image.fromarray(np.multiply(im,255).astype('uint8'), 'RGB')\n",
    "    return im"
   ]
  },
  {
   "cell_type": "code",
   "execution_count": 56,
   "metadata": {},
   "outputs": [],
   "source": [
    "im_rsz = bicubic_downsample(im,4)"
   ]
  },
  {
   "cell_type": "code",
   "execution_count": 57,
   "metadata": {},
   "outputs": [
    {
     "data": {
      "text/plain": [
       "(192, 263)"
      ]
     },
     "execution_count": 57,
     "metadata": {},
     "output_type": "execute_result"
    }
   ],
   "source": [
    "im.size"
   ]
  },
  {
   "cell_type": "code",
   "execution_count": 58,
   "metadata": {},
   "outputs": [
    {
     "data": {
      "image/png": "[encoded data removed]",
      "text/plain": [
       "<PIL.Image.Image image mode=RGB size=48x65 at 0x1D84B1A7FA0>"
      ]
     },
     "execution_count": 58,
     "metadata": {},
     "output_type": "execute_result"
    }
   ],
   "source": [
    "im_rsz"
   ]
  },
  {
   "cell_type": "code",
   "execution_count": 60,
   "metadata": {},
   "outputs": [],
   "source": [
    "im_rsz.save('maradona_ds.jpeg')"
   ]
  },
  {
   "cell_type": "code",
   "execution_count": 18,
   "metadata": {},
   "outputs": [
    {
     "data": {
      "text/plain": [
       "array([[[122, 132, 144],\n",
       "        [122, 132, 142],\n",
       "        [123, 131, 142],\n",
       "        ...,\n",
       "        [ 86,  84,  87],\n",
       "        [ 85,  83,  84],\n",
       "        [ 85,  83,  84]],\n",
       "\n",
       "       [[123, 133, 143],\n",
       "        [123, 133, 143],\n",
       "        [124, 133, 142],\n",
       "        ...,\n",
       "        [ 87,  85,  88],\n",
       "        [ 86,  84,  85],\n",
       "        [ 86,  84,  85]],\n",
       "\n",
       "       [[124, 132, 143],\n",
       "        [124, 133, 142],\n",
       "        [124, 133, 142],\n",
       "        ...,\n",
       "        [ 89,  87,  90],\n",
       "        [ 88,  86,  89],\n",
       "        [ 87,  85,  88]],\n",
       "\n",
       "       ...,\n",
       "\n",
       "       [[ 84, 103,  99],\n",
       "        [ 77,  96,  94],\n",
       "        [ 54,  74,  73],\n",
       "        ...,\n",
       "        [ 45,  72,  81],\n",
       "        [ 48,  77,  85],\n",
       "        [ 71, 100, 106]],\n",
       "\n",
       "       [[ 74,  93,  89],\n",
       "        [ 78,  97,  95],\n",
       "        [ 58,  78,  77],\n",
       "        ...,\n",
       "        [ 54,  81,  90],\n",
       "        [ 44,  73,  81],\n",
       "        [ 53,  82,  88]],\n",
       "\n",
       "       [[ 62,  81,  77],\n",
       "        [ 76,  95,  93],\n",
       "        [ 60,  80,  79],\n",
       "        ...,\n",
       "        [ 50,  77,  86],\n",
       "        [ 40,  69,  77],\n",
       "        [ 50,  79,  85]]], dtype=uint8)"
      ]
     },
     "execution_count": 18,
     "metadata": {},
     "output_type": "execute_result"
    }
   ],
   "source": [
    "np.array(im)"
   ]
  },
  {
   "cell_type": "code",
   "execution_count": null,
   "metadata": {},
   "outputs": [],
   "source": []
  }
 ],
 "metadata": {
  "interpreter": {
   "hash": "05d80e6c445678b4a1be8e0618b5d2b23d41a47155661a65475ed3bbc30374f1"
  },
  "kernelspec": {
   "display_name": "Python 3.8.5 64-bit ('base': conda)",
   "name": "python3"
  },
  "language_info": {
   "codemirror_mode": {
    "name": "ipython",
    "version": 3
   },
   "file_extension": ".py",
   "mimetype": "text/x-python",
   "name": "python",
   "nbconvert_exporter": "python",
   "pygments_lexer": "ipython3",
   "version": "3.8.5"
  },
  "orig_nbformat": 4
 },
 "nbformat": 4,
 "nbformat_minor": 2
}
