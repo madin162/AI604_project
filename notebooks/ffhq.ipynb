{
 "cells": [
  {
   "cell_type": "code",
   "execution_count": 2,
   "metadata": {},
   "outputs": [],
   "source": [
    "import PIL\n",
    "from PIL import Image\n",
    "import math\n",
    "import numpy as np\n",
    "from skimage.util import random_noise\n",
    "import os\n",
    "import pandas as pd\n",
    "import matplotlib.pyplot as plt\n",
    "from skimage import transform\n",
    "from skimage.transform import SimilarityTransform, AffineTransform\n",
    "import random \n",
    "import shutil\n",
    "from tqdm import tqdm\n",
    "import glob\n",
    "import cv2\n",
    "\n",
    "%matplotlib inline"
   ]
  },
  {
   "cell_type": "markdown",
   "metadata": {},
   "source": [
    "## Copy image to folder"
   ]
  },
  {
   "cell_type": "code",
   "execution_count": 3,
   "metadata": {},
   "outputs": [],
   "source": [
    "def copytree(src, dst, symlinks=False, ignore=None):\n",
    "    for item in os.listdir(src):\n",
    "        s = os.path.join(src, item)\n",
    "        d = os.path.join(dst, item)\n",
    "        if os.path.isdir(s):\n",
    "            shutil.copytree(s, d, symlinks, ignore)\n",
    "        else:\n",
    "            shutil.copy2(s, d)"
   ]
  },
  {
   "cell_type": "code",
   "execution_count": 4,
   "metadata": {},
   "outputs": [],
   "source": [
    "FFHQ_PATH = \"D:/Dataset/FFHQ_work/\"\n",
    "SR_PATH = \"D:/Dataset/FFHQ_work/\"\n",
    "TRAIN_PATH = \"D:/Dataset/FFHQ_work/train/\"\n",
    "TEST_PATH  = \"D:/Dataset/FFHQ_work/test/\"\n",
    "VAL_PATH  = \"D:/Dataset/FFHQ_work/validation/\""
   ]
  },
  {
   "cell_type": "markdown",
   "metadata": {},
   "source": [
    "# Read landmarks"
   ]
  },
  {
   "cell_type": "code",
   "execution_count": 22,
   "metadata": {},
   "outputs": [],
   "source": [
    "import json\n",
    "path_json_lm = os.path.join(FFHQ_PATH,'ffhq-dataset-v2.json')\n",
    "with open(path_json_lm) as f:\n",
    "    d = json.load(f)"
   ]
  },
  {
   "cell_type": "code",
   "execution_count": 23,
   "metadata": {},
   "outputs": [],
   "source": [
    "new_dict={}\n",
    "for id_key in d.keys():\n",
    "    new_dict[id_key]={}\n",
    "    new_dict[id_key]['image']={}\n",
    "    new_dict[id_key]['image']['face_landmarks']=d[id_key]['image']['face_landmarks']"
   ]
  },
  {
   "cell_type": "code",
   "execution_count": 24,
   "metadata": {},
   "outputs": [],
   "source": [
    "path_json_ext_lm = os.path.join(FFHQ_PATH,'ffhq-dataset-v2-imglandmark.json')\n",
    "with open(path_json_ext_lm, 'w') as outfile:\n",
    "    json.dump(new_dict, outfile)"
   ]
  },
  {
   "cell_type": "code",
   "execution_count": 25,
   "metadata": {},
   "outputs": [],
   "source": [
    "import json\n",
    "path_json_lm = os.path.join(FFHQ_PATH,'ffhq-dataset-v2-imglandmark.json')\n",
    "with open(path_json_lm) as f:\n",
    "    d = json.load(f)"
   ]
  },
  {
   "cell_type": "code",
   "execution_count": 98,
   "metadata": {},
   "outputs": [],
   "source": [
    "def shape_to_np(shape, dtype=\"int\"):\n",
    "\t# initialize the list of (x, y)-coordinates\n",
    "\tcoords = np.zeros((68, 2), dtype=dtype)\n",
    "\t# loop over the 68 facial landmarks and convert them\n",
    "\t# to a 2-tuple of (x, y)-coordinates\n",
    "\tfor i in range(0, 68):\n",
    "\t\tcoords[i] = (shape.part(i).x, shape.part(i).y)\n",
    "\t# return the list of (x, y)-coordinates\n",
    "\treturn coords"
   ]
  },
  {
   "cell_type": "code",
   "execution_count": 111,
   "metadata": {},
   "outputs": [],
   "source": []
  },
  {
   "cell_type": "code",
   "execution_count": 134,
   "metadata": {},
   "outputs": [],
   "source": [
    "\n",
    "#shape_to_np(lm)"
   ]
  },
  {
   "cell_type": "code",
   "execution_count": 135,
   "metadata": {},
   "outputs": [
    {
     "data": {
      "text/plain": [
       "array([131, 453])"
      ]
     },
     "execution_count": 135,
     "metadata": {},
     "output_type": "execute_result"
    }
   ],
   "source": [
    "lm[0]"
   ]
  },
  {
   "cell_type": "code",
   "execution_count": 374,
   "metadata": {},
   "outputs": [
    {
     "data": {
      "text/plain": [
       "<matplotlib.image.AxesImage at 0x2a4a9761340>"
      ]
     },
     "execution_count": 374,
     "metadata": {},
     "output_type": "execute_result"
    },
    {
     "data": {
      "image/png": "[encoded data removed]",
      "text/plain": [
       "<Figure size 432x288 with 1 Axes>"
      ]
     },
     "metadata": {
      "needs_background": "light"
     },
     "output_type": "display_data"
    }
   ],
   "source": [
    "from scipy.ndimage import convolve,gaussian_filter\n",
    "# Create landmarks\n",
    "index=1\n",
    "lm = d[str(index)]['image']['face_landmarks']\n",
    "lm = np.asarray(lm).astype(int)\n",
    "base_cnv = np.zeros((1024, 1024)).astype(np.uint8)\n",
    "\n",
    "# Base Contour\n",
    "#ctr = lm[:17].reshape((-1,1,2)).astype(np.int32)\n",
    "lm_out = np.concatenate((lm[:17], np.flip(lm[22:27], axis=0), np.array(\n",
    "    [lm[27]]), np.flip(lm[17:22], axis=0)), axis=0)\n",
    "ctr = lm_out.reshape((-1, 1, 2)).astype(np.int32)\n",
    "cv2.drawContours(base_cnv, [ctr], -1,\n",
    "                    (255, 255, 255), thickness=cv2.FILLED)\n",
    "base_cnv = base_cnv.astype(int)/4\n",
    "base_cnv = cv2.resize(base_cnv, dsize=(512, 512),\n",
    "                        interpolation=cv2.INTER_CUBIC)\n",
    "\n",
    "face_mask = np.zeros((1024, 1024))\n",
    "kernel = np.ones((20, 20))\n",
    "for lpt in lm[28:]:\n",
    "    face_mask[lpt[1], lpt[0]] = 255\n",
    "face_mask = convolve(face_mask, kernel)\n",
    "face_mask = gaussian_filter(face_mask, sigma=30)\n",
    "face_mask = cv2.resize(face_mask, (512, 512))*255/np.max(face_mask)\n",
    "face_mask = base_cnv+face_mask\n",
    "face_mask = gaussian_filter(face_mask, sigma=10)*1.2\n",
    "face_mask = np.clip(face_mask, 40, 255)/255\n",
    "plt.imshow(face_mask,cmap='gray',vmin=0,vmax=1)"
   ]
  },
  {
   "cell_type": "code",
   "execution_count": 375,
   "metadata": {},
   "outputs": [
    {
     "data": {
      "text/plain": [
       "(-0.5, 511.5, 511.5, -0.5)"
      ]
     },
     "execution_count": 375,
     "metadata": {},
     "output_type": "execute_result"
    },
    {
     "data": {
      "image/png": "[encoded data removed]",
      "text/plain": [
       "<Figure size 432x288 with 1 Axes>"
      ]
     },
     "metadata": {
      "needs_background": "light"
     },
     "output_type": "display_data"
    }
   ],
   "source": [
    "orig_img=np.array(PIL.ImageOps.grayscale(Image.open(os.path.join(FFHQ_PATH,'train_512','00001.jpg'))))\n",
    "orig_img = np.multiply(face_mask,orig_img)\n",
    "plt.imshow(orig_img,cmap='gray',vmin=0,vmax=255)\n",
    "plt.axis('off')"
   ]
  },
  {
   "cell_type": "code",
   "execution_count": 371,
   "metadata": {},
   "outputs": [
    {
     "data": {
      "text/plain": [
       "25203.31025110516"
      ]
     },
     "execution_count": 371,
     "metadata": {},
     "output_type": "execute_result"
    }
   ],
   "source": [
    "np.max(orig_img)"
   ]
  },
  {
   "cell_type": "code",
   "execution_count": null,
   "metadata": {},
   "outputs": [],
   "source": [
    "plt.imshow()"
   ]
  },
  {
   "cell_type": "code",
   "execution_count": 292,
   "metadata": {},
   "outputs": [
    {
     "data": {
      "text/plain": [
       "254.99999999999997"
      ]
     },
     "execution_count": 292,
     "metadata": {},
     "output_type": "execute_result"
    }
   ],
   "source": [
    "ab.max()"
   ]
  },
  {
   "cell_type": "code",
   "execution_count": 169,
   "metadata": {},
   "outputs": [
    {
     "data": {
      "text/plain": [
       "<matplotlib.image.AxesImage at 0x2a429b85640>"
      ]
     },
     "execution_count": 169,
     "metadata": {},
     "output_type": "execute_result"
    },
    {
     "data": {
      "image/png": "[encoded data removed]",
      "text/plain": [
       "<Figure size 432x288 with 1 Axes>"
      ]
     },
     "metadata": {
      "needs_background": "light"
     },
     "output_type": "display_data"
    }
   ],
   "source": []
  },
  {
   "cell_type": "code",
   "execution_count": 65,
   "metadata": {},
   "outputs": [
    {
     "data": {
      "text/plain": [
       "255.0"
      ]
     },
     "execution_count": 65,
     "metadata": {},
     "output_type": "execute_result"
    }
   ],
   "source": [
    "np.min(ab)\n",
    "np.max(ab)"
   ]
  },
  {
   "cell_type": "code",
   "execution_count": 64,
   "metadata": {},
   "outputs": [
    {
     "data": {
      "text/plain": [
       "array([[0., 0., 0., ..., 0., 0., 0.],\n",
       "       [0., 0., 0., ..., 0., 0., 0.],\n",
       "       [0., 0., 0., ..., 0., 0., 0.],\n",
       "       ...,\n",
       "       [0., 0., 0., ..., 0., 0., 0.],\n",
       "       [0., 0., 0., ..., 0., 0., 0.],\n",
       "       [0., 0., 0., ..., 0., 0., 0.]])"
      ]
     },
     "execution_count": 64,
     "metadata": {},
     "output_type": "execute_result"
    }
   ],
   "source": [
    "ab"
   ]
  },
  {
   "cell_type": "code",
   "execution_count": 39,
   "metadata": {},
   "outputs": [
    {
     "data": {
      "text/plain": [
       "array([1., 1.])"
      ]
     },
     "execution_count": 39,
     "metadata": {},
     "output_type": "execute_result"
    }
   ],
   "source": [
    "ab[tuple(cd)]"
   ]
  },
  {
   "cell_type": "code",
   "execution_count": 17,
   "metadata": {},
   "outputs": [
    {
     "ename": "IndexError",
     "evalue": "only integers, slices (`:`), ellipsis (`...`), numpy.newaxis (`None`) and integer or boolean arrays are valid indices",
     "output_type": "error",
     "traceback": [
      "\u001b[1;31m---------------------------------------------------------------------------\u001b[0m",
      "\u001b[1;31mIndexError\u001b[0m                                Traceback (most recent call last)",
      "\u001b[1;32m~\\AppData\\Local\\Temp/ipykernel_2748/2210554010.py\u001b[0m in \u001b[0;36m<module>\u001b[1;34m\u001b[0m\n\u001b[1;32m----> 1\u001b[1;33m \u001b[0mab\u001b[0m\u001b[1;33m[\u001b[0m\u001b[0md\u001b[0m\u001b[1;33m[\u001b[0m\u001b[1;34m'0'\u001b[0m\u001b[1;33m]\u001b[0m\u001b[1;33m[\u001b[0m\u001b[1;34m'image'\u001b[0m\u001b[1;33m]\u001b[0m\u001b[1;33m[\u001b[0m\u001b[1;34m'face_landmarks'\u001b[0m\u001b[1;33m]\u001b[0m\u001b[1;33m]\u001b[0m\u001b[1;33m=\u001b[0m\u001b[1;36m1\u001b[0m\u001b[1;33m\u001b[0m\u001b[1;33m\u001b[0m\u001b[0m\n\u001b[0m",
      "\u001b[1;31mIndexError\u001b[0m: only integers, slices (`:`), ellipsis (`...`), numpy.newaxis (`None`) and integer or boolean arrays are valid indices"
     ]
    }
   ],
   "source": []
  },
  {
   "cell_type": "code",
   "execution_count": 22,
   "metadata": {},
   "outputs": [
    {
     "data": {
      "text/plain": [
       "[131.62, 453.8]"
      ]
     },
     "execution_count": 22,
     "metadata": {},
     "output_type": "execute_result"
    }
   ],
   "source": [
    "d['0']['image']['face_landmarks'][0]"
   ]
  },
  {
   "cell_type": "code",
   "execution_count": 4,
   "metadata": {},
   "outputs": [],
   "source": [
    "src_dir = os.path.join(SR_PATH,os.listdir(SR_PATH)[0])"
   ]
  },
  {
   "cell_type": "code",
   "execution_count": 5,
   "metadata": {},
   "outputs": [
    {
     "name": "stdout",
     "output_type": "stream",
     "text": [
      "70\n"
     ]
    }
   ],
   "source": [
    "print(len(os.listdir(SR_PATH)))"
   ]
  },
  {
   "cell_type": "code",
   "execution_count": null,
   "metadata": {},
   "outputs": [],
   "source": [
    "dest_dir = VAL_PATH\n",
    "for i in range(50,60):\n",
    "    folder_name = os.listdir(SR_PATH)[i]\n",
    "    src_dir = os.path.join(SR_PATH,os.listdir(SR_PATH)[i])\n",
    "    print(\"copying from {0}, num of files: {1}\".format(folder_name,(len(os.listdir(src_dir)))))\n",
    "    shutil.copytree(src_dir, dest_dir, dirs_exist_ok=True)"
   ]
  },
  {
   "cell_type": "code",
   "execution_count": 9,
   "metadata": {},
   "outputs": [
    {
     "name": "stdout",
     "output_type": "stream",
     "text": [
      "copying from 65000_jpg, num of files: 1000\n",
      "copying from 66000_jpg, num of files: 1000\n",
      "copying from 67000_jpg, num of files: 1001\n",
      "copying from 68000_jpg, num of files: 1001\n",
      "copying from 69000_jpg, num of files: 1001\n"
     ]
    }
   ],
   "source": [
    "def copy_files_from_folder(src_path,dest_dir,min_id=None,max_id=None):\n",
    "    folder_list = os.listdir(src_path)\n",
    "    if ((min_id != None) and (max_id != None)):\n",
    "        folder_list = folder_list[min_id:max_id]\n",
    "    for folder_name in folder_list:\n",
    "        src_dir = os.path.join(src_path,folder_name)\n",
    "        print(\"copying from {0}, num of files: {1}\".format(folder_name,(len(os.listdir(src_dir)))))\n",
    "        shutil.copytree(src_dir, dest_dir, dirs_exist_ok=True)\n",
    "\n",
    "copy_files_from_folder(\"D:/Dataset/FFHQ\",\"D:/Dataset/FFHQ_work/test\",65,70)"
   ]
  },
  {
   "cell_type": "code",
   "execution_count": 10,
   "metadata": {},
   "outputs": [],
   "source": [
    "#dest_dir = \"D:/Dataset/FFHQ_work/ALL\"\n",
    "#src_path = FFHQ_PATH\n",
    "#for i in range(len(os.listdir(src_path))):\n",
    "#    src_dir = os.path.join(src_path,os.listdir(src_path)[i])\n",
    "#    shutil.copytree(src_dir, dest_dir, dirs_exist_ok=True)"
   ]
  },
  {
   "cell_type": "code",
   "execution_count": 30,
   "metadata": {},
   "outputs": [
    {
     "name": "stdout",
     "output_type": "stream",
     "text": [
      "copying from 50000_jpg, num of files: 1000\n",
      "copying from 51000_jpg, num of files: 1001\n",
      "copying from 52000_jpg, num of files: 1001\n",
      "copying from 53000_jpg, num of files: 1001\n",
      "copying from 54000_jpg, num of files: 1001\n",
      "copying from 55000_jpg, num of files: 1000\n",
      "copying from 56000_jpg, num of files: 1000\n",
      "copying from 57000_jpg, num of files: 1000\n",
      "copying from 58000_jpg, num of files: 1000\n",
      "copying from 59000_jpg, num of files: 1000\n"
     ]
    }
   ],
   "source": [
    "dest_dir = VAL_PATH\n",
    "for i in range(50,60):\n",
    "    folder_name = os.listdir(SR_PATH)[i]\n",
    "    src_dir = os.path.join(SR_PATH,os.listdir(SR_PATH)[i])\n",
    "    print(\"copying from {0}, num of files: {1}\".format(folder_name,(len(os.listdir(src_dir)))))\n",
    "    shutil.copytree(src_dir, dest_dir, dirs_exist_ok=True)"
   ]
  },
  {
   "cell_type": "code",
   "execution_count": 27,
   "metadata": {},
   "outputs": [],
   "source": [
    "dest_dir = TEST_PATH\n",
    "for i in range(60,70):\n",
    "    src_dir = os.path.join(SR_PATH,os.listdir(SR_PATH)[i])\n",
    "    shutil.copytree(src_dir, dest_dir, dirs_exist_ok=True)"
   ]
  },
  {
   "cell_type": "markdown",
   "metadata": {},
   "source": [
    "Validate number of files"
   ]
  },
  {
   "cell_type": "code",
   "execution_count": 6,
   "metadata": {},
   "outputs": [
    {
     "name": "stdout",
     "output_type": "stream",
     "text": [
      "70001\n",
      "10001\n",
      "10001\n"
     ]
    }
   ],
   "source": [
    "print(len(os.listdir(TRAIN_PATH)))\n",
    "print(len(os.listdir(VAL_PATH)))\n",
    "print(len(os.listdir(TEST_PATH)))"
   ]
  },
  {
   "cell_type": "markdown",
   "metadata": {},
   "source": [
    "# SRN Prototyping Only"
   ]
  },
  {
   "cell_type": "markdown",
   "metadata": {},
   "source": [
    "## Bicubic downsampling function"
   ]
  },
  {
   "cell_type": "code",
   "execution_count": 10,
   "metadata": {},
   "outputs": [],
   "source": [
    "def bicubic_downsample(im, factor=4):\n",
    "    width, height = im.size\n",
    "    new_width = int(math.floor(width / factor))\n",
    "    new_height = int(math.floor(height / factor))\n",
    "    im = im.resize((new_width, new_height), resample=PIL.Image.BICUBIC)\n",
    "    # convert to [0.0,1.0]\n",
    "    im = np.array(im)\n",
    "    im = im/255\n",
    "    im = random_noise(im,var=2e-3)\n",
    "    im = random_noise(im,mode='s&p',amount=2e-3)\n",
    "    im = Image.fromarray(np.multiply(im,255).astype('uint8'), 'RGB')\n",
    "    return im"
   ]
  },
  {
   "cell_type": "code",
   "execution_count": 11,
   "metadata": {},
   "outputs": [
    {
     "name": "stderr",
     "output_type": "stream",
     "text": [
      "100%|██████████| 10000/10000 [05:35<00:00, 29.78it/s]\n"
     ]
    }
   ],
   "source": [
    "new_size = (512,512)\n",
    "for img_path in tqdm(os.listdir(TRAIN_PATH)[0:10000]):\n",
    "    img_path = os.path.join(TRAIN_PATH,img_path)\n",
    "    img_folder_lr = os.path.dirname(TRAIN_PATH)+'_512'\n",
    "    if not os.path.exists(img_folder_lr):\n",
    "        os.makedirs(img_folder_lr)\n",
    "    img_file_name = img_path.split('/')[-1]\n",
    "    im=Image.open(img_path).resize(new_size,resample=PIL.Image.BICUBIC)\n",
    "    im.save(os.path.join(img_folder_lr,img_file_name))"
   ]
  },
  {
   "cell_type": "code",
   "execution_count": 13,
   "metadata": {},
   "outputs": [
    {
     "data": {
      "text/plain": [
       "'D:/Dataset/FFHQ_work/test/'"
      ]
     },
     "execution_count": 13,
     "metadata": {},
     "output_type": "execute_result"
    }
   ],
   "source": [
    "TEST_PATH"
   ]
  },
  {
   "cell_type": "code",
   "execution_count": 23,
   "metadata": {},
   "outputs": [
    {
     "name": "stderr",
     "output_type": "stream",
     "text": [
      "100%|██████████| 5000/5000 [02:46<00:00, 30.07it/s]\n"
     ]
    }
   ],
   "source": [
    "img_folder_path = TEST_PATH\n",
    "new_size = (512,512)\n",
    "\n",
    "files_jpg = [l for l in glob.glob(os.path.join(img_folder_path, '*')) if l.lower().endswith(('jpg', 'png', 'jpeg'))]\n",
    "files_jpg = sorted(files_jpg)\n",
    "for img_path in tqdm(files_jpg):\n",
    "    img_path = os.path.join(img_folder_path,img_path)\n",
    "    img_folder_lr = os.path.dirname(img_folder_path)+'_512'\n",
    "    if not os.path.exists(img_folder_lr):\n",
    "        os.makedirs(img_folder_lr)\n",
    "    img_file_name = os.path.split(img_path)[1]\n",
    "    im=Image.open(img_path).resize(new_size,resample=PIL.Image.BICUBIC)\n",
    "    im.save(os.path.join(img_folder_lr,img_file_name))"
   ]
  },
  {
   "cell_type": "code",
   "execution_count": 18,
   "metadata": {},
   "outputs": [
    {
     "data": {
      "text/plain": [
       "'D:/Dataset/FFHQ_work/test\\\\65000.jpg'"
      ]
     },
     "execution_count": 18,
     "metadata": {},
     "output_type": "execute_result"
    }
   ],
   "source": [
    "files_jpg[0]"
   ]
  },
  {
   "cell_type": "code",
   "execution_count": 21,
   "metadata": {},
   "outputs": [
    {
     "data": {
      "text/plain": [
       "'69999.jpg'"
      ]
     },
     "execution_count": 21,
     "metadata": {},
     "output_type": "execute_result"
    }
   ],
   "source": []
  },
  {
   "cell_type": "code",
   "execution_count": 23,
   "metadata": {},
   "outputs": [
    {
     "name": "stderr",
     "output_type": "stream",
     "text": [
      "0it [00:00, ?it/s]\n"
     ]
    }
   ],
   "source": [
    "IMG_SOURCE_PATH = \"D:/Dataset/FFHQ/\"\n",
    "IMG_FOLDER_PATH = VAL_PATH\n",
    "new_size = (512,512)\n",
    "\n",
    "files_jpg = [l for l in glob.glob(os.path.join(IMG_SOURCE_PATH, '*')) if l.lower().endswith(('jpg', 'png', 'jpeg'))]\n",
    "files_jpg = sorted(files_jpg)\n",
    "for img_path in tqdm(files_jpg[65000: 70000]):\n",
    "    img_path = os.path.join(IMG_FOLDER_PATH,img_path)\n",
    "    img_folder_lr = os.path.dirname(IMG_FOLDER_PATH)+'_512'\n",
    "    if not os.path.exists(img_folder_lr):\n",
    "        os.makedirs(img_folder_lr)\n",
    "    img_file_name = img_path.split('/')[-1]\n",
    "    im=Image.open(img_path).resize(new_size,resample=PIL.Image.BICUBIC)\n",
    "    im.save(os.path.join(img_folder_lr,img_file_name))"
   ]
  },
  {
   "cell_type": "code",
   "execution_count": 9,
   "metadata": {},
   "outputs": [
    {
     "name": "stderr",
     "output_type": "stream",
     "text": [
      "100%|██████████| 125/125 [00:04<00:00, 27.13it/s]\n"
     ]
    }
   ],
   "source": [
    "IMG_FOLDER_PATH = VAL_PATH\n",
    "new_size = (512,512)\n",
    "for img_path in tqdm(os.listdir(IMG_FOLDER_PATH)[65000, 70000]):\n",
    "    img_path = os.path.join(IMG_FOLDER_PATH,img_path)\n",
    "    img_folder_lr = os.path.dirname(IMG_FOLDER_PATH)+'_512'\n",
    "    if not os.path.exists(img_folder_lr):\n",
    "        os.makedirs(img_folder_lr)\n",
    "    img_file_name = img_path.split('/')[-1]\n",
    "    im=Image.open(img_path).resize(new_size,resample=PIL.Image.BICUBIC)\n",
    "    im.save(os.path.join(img_folder_lr,img_file_name))"
   ]
  },
  {
   "cell_type": "code",
   "execution_count": 49,
   "metadata": {},
   "outputs": [
    {
     "name": "stderr",
     "output_type": "stream",
     "text": [
      "100%|█████████▉| 10000/10001 [04:24<00:00, 37.84it/s]\n"
     ]
    },
    {
     "ename": "UnidentifiedImageError",
     "evalue": "cannot identify image file 'D:/Dataset/FFHQ/validation/Thumbs.db'",
     "output_type": "error",
     "traceback": [
      "\u001b[1;31m---------------------------------------------------------------------------\u001b[0m",
      "\u001b[1;31mUnidentifiedImageError\u001b[0m                    Traceback (most recent call last)",
      "\u001b[1;32m~\\AppData\\Local\\Temp/ipykernel_20304/2266473102.py\u001b[0m in \u001b[0;36m<module>\u001b[1;34m\u001b[0m\n\u001b[0;32m      5\u001b[0m     \u001b[0mimg_folder_lr\u001b[0m \u001b[1;33m=\u001b[0m \u001b[0mos\u001b[0m\u001b[1;33m.\u001b[0m\u001b[0mpath\u001b[0m\u001b[1;33m.\u001b[0m\u001b[0mdirname\u001b[0m\u001b[1;33m(\u001b[0m\u001b[0mto_lr_path\u001b[0m\u001b[1;33m)\u001b[0m\u001b[1;33m+\u001b[0m\u001b[1;34m'_lr'\u001b[0m\u001b[1;33m\u001b[0m\u001b[1;33m\u001b[0m\u001b[0m\n\u001b[0;32m      6\u001b[0m     \u001b[0mimg_file_name\u001b[0m \u001b[1;33m=\u001b[0m \u001b[0mimg_path\u001b[0m\u001b[1;33m.\u001b[0m\u001b[0msplit\u001b[0m\u001b[1;33m(\u001b[0m\u001b[1;34m'/'\u001b[0m\u001b[1;33m)\u001b[0m\u001b[1;33m[\u001b[0m\u001b[1;33m-\u001b[0m\u001b[1;36m1\u001b[0m\u001b[1;33m]\u001b[0m\u001b[1;33m\u001b[0m\u001b[1;33m\u001b[0m\u001b[0m\n\u001b[1;32m----> 7\u001b[1;33m     \u001b[0mim\u001b[0m\u001b[1;33m=\u001b[0m\u001b[0mImage\u001b[0m\u001b[1;33m.\u001b[0m\u001b[0mopen\u001b[0m\u001b[1;33m(\u001b[0m\u001b[0mimg_path\u001b[0m\u001b[1;33m)\u001b[0m\u001b[1;33m.\u001b[0m\u001b[0mresize\u001b[0m\u001b[1;33m(\u001b[0m\u001b[0mnewsize\u001b[0m\u001b[1;33m,\u001b[0m\u001b[0mresample\u001b[0m\u001b[1;33m=\u001b[0m\u001b[0mPIL\u001b[0m\u001b[1;33m.\u001b[0m\u001b[0mImage\u001b[0m\u001b[1;33m.\u001b[0m\u001b[0mBICUBIC\u001b[0m\u001b[1;33m)\u001b[0m\u001b[1;33m\u001b[0m\u001b[1;33m\u001b[0m\u001b[0m\n\u001b[0m\u001b[0;32m      8\u001b[0m     \u001b[0mim\u001b[0m\u001b[1;33m.\u001b[0m\u001b[0msave\u001b[0m\u001b[1;33m(\u001b[0m\u001b[0mos\u001b[0m\u001b[1;33m.\u001b[0m\u001b[0mpath\u001b[0m\u001b[1;33m.\u001b[0m\u001b[0mjoin\u001b[0m\u001b[1;33m(\u001b[0m\u001b[0mimg_folder_lr\u001b[0m\u001b[1;33m,\u001b[0m\u001b[0mimg_file_name\u001b[0m\u001b[1;33m)\u001b[0m\u001b[1;33m)\u001b[0m\u001b[1;33m\u001b[0m\u001b[1;33m\u001b[0m\u001b[0m\n",
      "\u001b[1;32m~\\anaconda3\\lib\\site-packages\\PIL\\Image.py\u001b[0m in \u001b[0;36mopen\u001b[1;34m(fp, mode, formats)\u001b[0m\n\u001b[0;32m   3028\u001b[0m     \u001b[1;32mfor\u001b[0m \u001b[0mmessage\u001b[0m \u001b[1;32min\u001b[0m \u001b[0maccept_warnings\u001b[0m\u001b[1;33m:\u001b[0m\u001b[1;33m\u001b[0m\u001b[1;33m\u001b[0m\u001b[0m\n\u001b[0;32m   3029\u001b[0m         \u001b[0mwarnings\u001b[0m\u001b[1;33m.\u001b[0m\u001b[0mwarn\u001b[0m\u001b[1;33m(\u001b[0m\u001b[0mmessage\u001b[0m\u001b[1;33m)\u001b[0m\u001b[1;33m\u001b[0m\u001b[1;33m\u001b[0m\u001b[0m\n\u001b[1;32m-> 3030\u001b[1;33m     raise UnidentifiedImageError(\n\u001b[0m\u001b[0;32m   3031\u001b[0m         \u001b[1;34m\"cannot identify image file %r\"\u001b[0m \u001b[1;33m%\u001b[0m \u001b[1;33m(\u001b[0m\u001b[0mfilename\u001b[0m \u001b[1;32mif\u001b[0m \u001b[0mfilename\u001b[0m \u001b[1;32melse\u001b[0m \u001b[0mfp\u001b[0m\u001b[1;33m)\u001b[0m\u001b[1;33m\u001b[0m\u001b[1;33m\u001b[0m\u001b[0m\n\u001b[0;32m   3032\u001b[0m     )\n",
      "\u001b[1;31mUnidentifiedImageError\u001b[0m: cannot identify image file 'D:/Dataset/FFHQ/validation/Thumbs.db'"
     ]
    }
   ],
   "source": [
    "newsize = (127,127)\n",
    "to_lr_path = VAL_PATH\n",
    "for img_path in tqdm(os.listdir(to_lr_path)):\n",
    "    img_path = os.path.join(to_lr_path,img_path)\n",
    "    img_folder_lr = os.path.dirname(to_lr_path)+'_lr'\n",
    "    img_file_name = img_path.split('/')[-1]\n",
    "    im=Image.open(img_path).resize(newsize,resample=PIL.Image.BICUBIC)\n",
    "    im.save(os.path.join(img_folder_lr,img_file_name))"
   ]
  },
  {
   "cell_type": "code",
   "execution_count": 43,
   "metadata": {},
   "outputs": [
    {
     "data": {
      "text/plain": [
       "'00000.jpg'"
      ]
     },
     "execution_count": 43,
     "metadata": {},
     "output_type": "execute_result"
    }
   ],
   "source": [
    "img_path.split('/')[-1]"
   ]
  },
  {
   "cell_type": "code",
   "execution_count": 48,
   "metadata": {},
   "outputs": [
    {
     "data": {
      "text/plain": [
       "'D:/Dataset/FFHQ/validation/'"
      ]
     },
     "execution_count": 48,
     "metadata": {},
     "output_type": "execute_result"
    }
   ],
   "source": [
    "VAL_PATH"
   ]
  },
  {
   "cell_type": "code",
   "execution_count": 39,
   "metadata": {},
   "outputs": [
    {
     "data": {
      "text/plain": [
       "'00000.jpg'"
      ]
     },
     "execution_count": 39,
     "metadata": {},
     "output_type": "execute_result"
    }
   ],
   "source": [
    "os.path.join(img_file_name.split('/')[-1])"
   ]
  },
  {
   "cell_type": "code",
   "execution_count": 34,
   "metadata": {},
   "outputs": [
    {
     "data": {
      "text/plain": [
       "'00000'"
      ]
     },
     "execution_count": 34,
     "metadata": {},
     "output_type": "execute_result"
    }
   ],
   "source": [
    "img_name.split('/')[-1]"
   ]
  },
  {
   "cell_type": "code",
   "execution_count": 41,
   "metadata": {},
   "outputs": [
    {
     "data": {
      "text/plain": [
       "['00000.jpg',\n",
       " '00001.jpg',\n",
       " '00002.jpg',\n",
       " '00003.jpg',\n",
       " '00004.jpg',\n",
       " '00005.jpg',\n",
       " '00006.jpg',\n",
       " '00007.jpg',\n",
       " '00008.jpg',\n",
       " '00009.jpg',\n",
       " '00010.jpg',\n",
       " '00011.jpg',\n",
       " '00012.jpg',\n",
       " '00013.jpg',\n",
       " '00014.jpg',\n",
       " '00015.jpg',\n",
       " '00016.jpg',\n",
       " '00017.jpg',\n",
       " '00018.jpg',\n",
       " '00019.jpg',\n",
       " '00020.jpg',\n",
       " '00021.jpg',\n",
       " '00022.jpg',\n",
       " '00023.jpg',\n",
       " '00024.jpg',\n",
       " '00025.jpg',\n",
       " '00026.jpg',\n",
       " '00027.jpg',\n",
       " '00028.jpg',\n",
       " '00029.jpg',\n",
       " '00030.jpg',\n",
       " '00031.jpg',\n",
       " '00032.jpg',\n",
       " '00033.jpg',\n",
       " '00034.jpg',\n",
       " '00035.jpg',\n",
       " '00036.jpg',\n",
       " '00037.jpg',\n",
       " '00038.jpg',\n",
       " '00039.jpg',\n",
       " '00040.jpg',\n",
       " '00041.jpg',\n",
       " '00042.jpg',\n",
       " '00043.jpg',\n",
       " '00044.jpg',\n",
       " '00045.jpg',\n",
       " '00046.jpg',\n",
       " '00047.jpg',\n",
       " '00048.jpg',\n",
       " '00049.jpg',\n",
       " '00050.jpg',\n",
       " '00051.jpg',\n",
       " '00052.jpg',\n",
       " '00053.jpg',\n",
       " '00054.jpg',\n",
       " '00055.jpg',\n",
       " '00056.jpg',\n",
       " '00057.jpg',\n",
       " '00058.jpg',\n",
       " '00059.jpg',\n",
       " '00060.jpg',\n",
       " '00061.jpg',\n",
       " '00062.jpg',\n",
       " '00063.jpg',\n",
       " '00064.jpg',\n",
       " '00065.jpg',\n",
       " '00066.jpg',\n",
       " '00067.jpg',\n",
       " '00068.jpg',\n",
       " '00069.jpg',\n",
       " '00070.jpg',\n",
       " '00071.jpg',\n",
       " '00072.jpg',\n",
       " '00073.jpg',\n",
       " '00074.jpg',\n",
       " '00075.jpg',\n",
       " '00076.jpg',\n",
       " '00077.jpg',\n",
       " '00078.jpg',\n",
       " '00079.jpg',\n",
       " '00080.jpg',\n",
       " '00081.jpg',\n",
       " '00082.jpg',\n",
       " '00083.jpg',\n",
       " '00084.jpg',\n",
       " '00085.jpg',\n",
       " '00086.jpg',\n",
       " '00087.jpg',\n",
       " '00088.jpg',\n",
       " '00089.jpg',\n",
       " '00090.jpg',\n",
       " '00091.jpg',\n",
       " '00092.jpg',\n",
       " '00093.jpg',\n",
       " '00094.jpg',\n",
       " '00095.jpg',\n",
       " '00096.jpg',\n",
       " '00097.jpg',\n",
       " '00098.jpg',\n",
       " '00099.jpg',\n",
       " '00100.jpg',\n",
       " '00101.jpg',\n",
       " '00102.jpg',\n",
       " '00103.jpg',\n",
       " '00104.jpg',\n",
       " '00105.jpg',\n",
       " '00106.jpg',\n",
       " '00107.jpg',\n",
       " '00108.jpg',\n",
       " '00109.jpg',\n",
       " '00110.jpg',\n",
       " '00111.jpg',\n",
       " '00112.jpg',\n",
       " '00113.jpg',\n",
       " '00114.jpg',\n",
       " '00115.jpg',\n",
       " '00116.jpg',\n",
       " '00117.jpg',\n",
       " '00118.jpg',\n",
       " '00119.jpg',\n",
       " '00120.jpg',\n",
       " '00121.jpg',\n",
       " '00122.jpg',\n",
       " '00123.jpg',\n",
       " '00124.jpg',\n",
       " '00125.jpg',\n",
       " '00126.jpg',\n",
       " '00127.jpg',\n",
       " '00128.jpg',\n",
       " '00129.jpg',\n",
       " '00130.jpg',\n",
       " '00131.jpg',\n",
       " '00132.jpg',\n",
       " '00133.jpg',\n",
       " '00134.jpg',\n",
       " '00135.jpg',\n",
       " '00136.jpg',\n",
       " '00137.jpg',\n",
       " '00138.jpg',\n",
       " '00139.jpg',\n",
       " '00140.jpg',\n",
       " '00141.jpg',\n",
       " '00142.jpg',\n",
       " '00143.jpg',\n",
       " '00144.jpg',\n",
       " '00145.jpg',\n",
       " '00146.jpg',\n",
       " '00147.jpg',\n",
       " '00148.jpg',\n",
       " '00149.jpg',\n",
       " '00150.jpg',\n",
       " '00151.jpg',\n",
       " '00152.jpg',\n",
       " '00153.jpg',\n",
       " '00154.jpg',\n",
       " '00155.jpg',\n",
       " '00156.jpg',\n",
       " '00157.jpg',\n",
       " '00158.jpg',\n",
       " '00159.jpg',\n",
       " '00160.jpg',\n",
       " '00161.jpg',\n",
       " '00162.jpg',\n",
       " '00163.jpg',\n",
       " '00164.jpg',\n",
       " '00165.jpg',\n",
       " '00166.jpg',\n",
       " '00167.jpg',\n",
       " '00168.jpg',\n",
       " '00169.jpg',\n",
       " '00170.jpg',\n",
       " '00171.jpg',\n",
       " '00172.jpg',\n",
       " '00173.jpg',\n",
       " '00174.jpg',\n",
       " '00175.jpg',\n",
       " '00176.jpg',\n",
       " '00177.jpg',\n",
       " '00178.jpg',\n",
       " '00179.jpg',\n",
       " '00180.jpg',\n",
       " '00181.jpg',\n",
       " '00182.jpg',\n",
       " '00183.jpg',\n",
       " '00184.jpg',\n",
       " '00185.jpg',\n",
       " '00186.jpg',\n",
       " '00187.jpg',\n",
       " '00188.jpg',\n",
       " '00189.jpg',\n",
       " '00190.jpg',\n",
       " '00191.jpg',\n",
       " '00192.jpg',\n",
       " '00193.jpg',\n",
       " '00194.jpg',\n",
       " '00195.jpg',\n",
       " '00196.jpg',\n",
       " '00197.jpg',\n",
       " '00198.jpg',\n",
       " '00199.jpg',\n",
       " '00200.jpg',\n",
       " '00201.jpg',\n",
       " '00202.jpg',\n",
       " '00203.jpg',\n",
       " '00204.jpg',\n",
       " '00205.jpg',\n",
       " '00206.jpg',\n",
       " '00207.jpg',\n",
       " '00208.jpg',\n",
       " '00209.jpg',\n",
       " '00210.jpg',\n",
       " '00211.jpg',\n",
       " '00212.jpg',\n",
       " '00213.jpg',\n",
       " '00214.jpg',\n",
       " '00215.jpg',\n",
       " '00216.jpg',\n",
       " '00217.jpg',\n",
       " '00218.jpg',\n",
       " '00219.jpg',\n",
       " '00220.jpg',\n",
       " '00221.jpg',\n",
       " '00222.jpg',\n",
       " '00223.jpg',\n",
       " '00224.jpg',\n",
       " '00225.jpg',\n",
       " '00226.jpg',\n",
       " '00227.jpg',\n",
       " '00228.jpg',\n",
       " '00229.jpg',\n",
       " '00230.jpg',\n",
       " '00231.jpg',\n",
       " '00232.jpg',\n",
       " '00233.jpg',\n",
       " '00234.jpg',\n",
       " '00235.jpg',\n",
       " '00236.jpg',\n",
       " '00237.jpg',\n",
       " '00238.jpg',\n",
       " '00239.jpg',\n",
       " '00240.jpg',\n",
       " '00241.jpg',\n",
       " '00242.jpg',\n",
       " '00243.jpg',\n",
       " '00244.jpg',\n",
       " '00245.jpg',\n",
       " '00246.jpg',\n",
       " '00247.jpg',\n",
       " '00248.jpg',\n",
       " '00249.jpg',\n",
       " '00250.jpg',\n",
       " '00251.jpg',\n",
       " '00252.jpg',\n",
       " '00253.jpg',\n",
       " '00254.jpg',\n",
       " '00255.jpg',\n",
       " '00256.jpg',\n",
       " '00257.jpg',\n",
       " '00258.jpg',\n",
       " '00259.jpg',\n",
       " '00260.jpg',\n",
       " '00261.jpg',\n",
       " '00262.jpg',\n",
       " '00263.jpg',\n",
       " '00264.jpg',\n",
       " '00265.jpg',\n",
       " '00266.jpg',\n",
       " '00267.jpg',\n",
       " '00268.jpg',\n",
       " '00269.jpg',\n",
       " '00270.jpg',\n",
       " '00271.jpg',\n",
       " '00272.jpg',\n",
       " '00273.jpg',\n",
       " '00274.jpg',\n",
       " '00275.jpg',\n",
       " '00276.jpg',\n",
       " '00277.jpg',\n",
       " '00278.jpg',\n",
       " '00279.jpg',\n",
       " '00280.jpg',\n",
       " '00281.jpg',\n",
       " '00282.jpg',\n",
       " '00283.jpg',\n",
       " '00284.jpg',\n",
       " '00285.jpg',\n",
       " '00286.jpg',\n",
       " '00287.jpg',\n",
       " '00288.jpg',\n",
       " '00289.jpg',\n",
       " '00290.jpg',\n",
       " '00291.jpg',\n",
       " '00292.jpg',\n",
       " '00293.jpg',\n",
       " '00294.jpg',\n",
       " '00295.jpg',\n",
       " '00296.jpg',\n",
       " '00297.jpg',\n",
       " '00298.jpg',\n",
       " '00299.jpg',\n",
       " '00300.jpg',\n",
       " '00301.jpg',\n",
       " '00302.jpg',\n",
       " '00303.jpg',\n",
       " '00304.jpg',\n",
       " '00305.jpg',\n",
       " '00306.jpg',\n",
       " '00307.jpg',\n",
       " '00308.jpg',\n",
       " '00309.jpg',\n",
       " '00310.jpg',\n",
       " '00311.jpg',\n",
       " '00312.jpg',\n",
       " '00313.jpg',\n",
       " '00314.jpg',\n",
       " '00315.jpg',\n",
       " '00316.jpg',\n",
       " '00317.jpg',\n",
       " '00318.jpg',\n",
       " '00319.jpg',\n",
       " '00320.jpg',\n",
       " '00321.jpg',\n",
       " '00322.jpg',\n",
       " '00323.jpg',\n",
       " '00324.jpg',\n",
       " '00325.jpg',\n",
       " '00326.jpg',\n",
       " '00327.jpg',\n",
       " '00328.jpg',\n",
       " '00329.jpg',\n",
       " '00330.jpg',\n",
       " '00331.jpg',\n",
       " '00332.jpg',\n",
       " '00333.jpg',\n",
       " '00334.jpg',\n",
       " '00335.jpg',\n",
       " '00336.jpg',\n",
       " '00337.jpg',\n",
       " '00338.jpg',\n",
       " '00339.jpg',\n",
       " '00340.jpg',\n",
       " '00341.jpg',\n",
       " '00342.jpg',\n",
       " '00343.jpg',\n",
       " '00344.jpg',\n",
       " '00345.jpg',\n",
       " '00346.jpg',\n",
       " '00347.jpg',\n",
       " '00348.jpg',\n",
       " '00349.jpg',\n",
       " '00350.jpg',\n",
       " '00351.jpg',\n",
       " '00352.jpg',\n",
       " '00353.jpg',\n",
       " '00354.jpg',\n",
       " '00355.jpg',\n",
       " '00356.jpg',\n",
       " '00357.jpg',\n",
       " '00358.jpg',\n",
       " '00359.jpg',\n",
       " '00360.jpg',\n",
       " '00361.jpg',\n",
       " '00362.jpg',\n",
       " '00363.jpg',\n",
       " '00364.jpg',\n",
       " '00365.jpg',\n",
       " '00366.jpg',\n",
       " '00367.jpg',\n",
       " '00368.jpg',\n",
       " '00369.jpg',\n",
       " '00370.jpg',\n",
       " '00371.jpg',\n",
       " '00372.jpg',\n",
       " '00373.jpg',\n",
       " '00374.jpg',\n",
       " '00375.jpg',\n",
       " '00376.jpg',\n",
       " '00377.jpg',\n",
       " '00378.jpg',\n",
       " '00379.jpg',\n",
       " '00380.jpg',\n",
       " '00381.jpg',\n",
       " '00382.jpg',\n",
       " '00383.jpg',\n",
       " '00384.jpg',\n",
       " '00385.jpg',\n",
       " '00386.jpg',\n",
       " '00387.jpg',\n",
       " '00388.jpg',\n",
       " '00389.jpg',\n",
       " '00390.jpg',\n",
       " '00391.jpg',\n",
       " '00392.jpg',\n",
       " '00393.jpg',\n",
       " '00394.jpg',\n",
       " '00395.jpg',\n",
       " '00396.jpg',\n",
       " '00397.jpg',\n",
       " '00398.jpg',\n",
       " '00399.jpg',\n",
       " '00400.jpg',\n",
       " '00401.jpg',\n",
       " '00402.jpg',\n",
       " '00403.jpg',\n",
       " '00404.jpg',\n",
       " '00405.jpg',\n",
       " '00406.jpg',\n",
       " '00407.jpg',\n",
       " '00408.jpg',\n",
       " '00409.jpg',\n",
       " '00410.jpg',\n",
       " '00411.jpg',\n",
       " '00412.jpg',\n",
       " '00413.jpg',\n",
       " '00414.jpg',\n",
       " '00415.jpg',\n",
       " '00416.jpg',\n",
       " '00417.jpg',\n",
       " '00418.jpg',\n",
       " '00419.jpg',\n",
       " '00420.jpg',\n",
       " '00421.jpg',\n",
       " '00422.jpg',\n",
       " '00423.jpg',\n",
       " '00424.jpg',\n",
       " '00425.jpg',\n",
       " '00426.jpg',\n",
       " '00427.jpg',\n",
       " '00428.jpg',\n",
       " '00429.jpg',\n",
       " '00430.jpg',\n",
       " '00431.jpg',\n",
       " '00432.jpg',\n",
       " '00433.jpg',\n",
       " '00434.jpg',\n",
       " '00435.jpg',\n",
       " '00436.jpg',\n",
       " '00437.jpg',\n",
       " '00438.jpg',\n",
       " '00439.jpg',\n",
       " '00440.jpg',\n",
       " '00441.jpg',\n",
       " '00442.jpg',\n",
       " '00443.jpg',\n",
       " '00444.jpg',\n",
       " '00445.jpg',\n",
       " '00446.jpg',\n",
       " '00447.jpg',\n",
       " '00448.jpg',\n",
       " '00449.jpg',\n",
       " '00450.jpg',\n",
       " '00451.jpg',\n",
       " '00452.jpg',\n",
       " '00453.jpg',\n",
       " '00454.jpg',\n",
       " '00455.jpg',\n",
       " '00456.jpg',\n",
       " '00457.jpg',\n",
       " '00458.jpg',\n",
       " '00459.jpg',\n",
       " '00460.jpg',\n",
       " '00461.jpg',\n",
       " '00462.jpg',\n",
       " '00463.jpg',\n",
       " '00464.jpg',\n",
       " '00465.jpg',\n",
       " '00466.jpg',\n",
       " '00467.jpg',\n",
       " '00468.jpg',\n",
       " '00469.jpg',\n",
       " '00470.jpg',\n",
       " '00471.jpg',\n",
       " '00472.jpg',\n",
       " '00473.jpg',\n",
       " '00474.jpg',\n",
       " '00475.jpg',\n",
       " '00476.jpg',\n",
       " '00477.jpg',\n",
       " '00478.jpg',\n",
       " '00479.jpg',\n",
       " '00480.jpg',\n",
       " '00481.jpg',\n",
       " '00482.jpg',\n",
       " '00483.jpg',\n",
       " '00484.jpg',\n",
       " '00485.jpg',\n",
       " '00486.jpg',\n",
       " '00487.jpg',\n",
       " '00488.jpg',\n",
       " '00489.jpg',\n",
       " '00490.jpg',\n",
       " '00491.jpg',\n",
       " '00492.jpg',\n",
       " '00493.jpg',\n",
       " '00494.jpg',\n",
       " '00495.jpg',\n",
       " '00496.jpg',\n",
       " '00497.jpg',\n",
       " '00498.jpg',\n",
       " '00499.jpg',\n",
       " '00500.jpg',\n",
       " '00501.jpg',\n",
       " '00502.jpg',\n",
       " '00503.jpg',\n",
       " '00504.jpg',\n",
       " '00505.jpg',\n",
       " '00506.jpg',\n",
       " '00507.jpg',\n",
       " '00508.jpg',\n",
       " '00509.jpg',\n",
       " '00510.jpg',\n",
       " '00511.jpg',\n",
       " '00512.jpg',\n",
       " '00513.jpg',\n",
       " '00514.jpg',\n",
       " '00515.jpg',\n",
       " '00516.jpg',\n",
       " '00517.jpg',\n",
       " '00518.jpg',\n",
       " '00519.jpg',\n",
       " '00520.jpg',\n",
       " '00521.jpg',\n",
       " '00522.jpg',\n",
       " '00523.jpg',\n",
       " '00524.jpg',\n",
       " '00525.jpg',\n",
       " '00526.jpg',\n",
       " '00527.jpg',\n",
       " '00528.jpg',\n",
       " '00529.jpg',\n",
       " '00530.jpg',\n",
       " '00531.jpg',\n",
       " '00532.jpg',\n",
       " '00533.jpg',\n",
       " '00534.jpg',\n",
       " '00535.jpg',\n",
       " '00536.jpg',\n",
       " '00537.jpg',\n",
       " '00538.jpg',\n",
       " '00539.jpg',\n",
       " '00540.jpg',\n",
       " '00541.jpg',\n",
       " '00542.jpg',\n",
       " '00543.jpg',\n",
       " '00544.jpg',\n",
       " '00545.jpg',\n",
       " '00546.jpg',\n",
       " '00547.jpg',\n",
       " '00548.jpg',\n",
       " '00549.jpg',\n",
       " '00550.jpg',\n",
       " '00551.jpg',\n",
       " '00552.jpg',\n",
       " '00553.jpg',\n",
       " '00554.jpg',\n",
       " '00555.jpg',\n",
       " '00556.jpg',\n",
       " '00557.jpg',\n",
       " '00558.jpg',\n",
       " '00559.jpg',\n",
       " '00560.jpg',\n",
       " '00561.jpg',\n",
       " '00562.jpg',\n",
       " '00563.jpg',\n",
       " '00564.jpg',\n",
       " '00565.jpg',\n",
       " '00566.jpg',\n",
       " '00567.jpg',\n",
       " '00568.jpg',\n",
       " '00569.jpg',\n",
       " '00570.jpg',\n",
       " '00571.jpg',\n",
       " '00572.jpg',\n",
       " '00573.jpg',\n",
       " '00574.jpg',\n",
       " '00575.jpg',\n",
       " '00576.jpg',\n",
       " '00577.jpg',\n",
       " '00578.jpg',\n",
       " '00579.jpg',\n",
       " '00580.jpg',\n",
       " '00581.jpg',\n",
       " '00582.jpg',\n",
       " '00583.jpg',\n",
       " '00584.jpg',\n",
       " '00585.jpg',\n",
       " '00586.jpg',\n",
       " '00587.jpg',\n",
       " '00588.jpg',\n",
       " '00589.jpg',\n",
       " '00590.jpg',\n",
       " '00591.jpg',\n",
       " '00592.jpg',\n",
       " '00593.jpg',\n",
       " '00594.jpg',\n",
       " '00595.jpg',\n",
       " '00596.jpg',\n",
       " '00597.jpg',\n",
       " '00598.jpg',\n",
       " '00599.jpg',\n",
       " '00600.jpg',\n",
       " '00601.jpg',\n",
       " '00602.jpg',\n",
       " '00603.jpg',\n",
       " '00604.jpg',\n",
       " '00605.jpg',\n",
       " '00606.jpg',\n",
       " '00607.jpg',\n",
       " '00608.jpg',\n",
       " '00609.jpg',\n",
       " '00610.jpg',\n",
       " '00611.jpg',\n",
       " '00612.jpg',\n",
       " '00613.jpg',\n",
       " '00614.jpg',\n",
       " '00615.jpg',\n",
       " '00616.jpg',\n",
       " '00617.jpg',\n",
       " '00618.jpg',\n",
       " '00619.jpg',\n",
       " '00620.jpg',\n",
       " '00621.jpg',\n",
       " '00622.jpg',\n",
       " '00623.jpg',\n",
       " '00624.jpg',\n",
       " '00625.jpg',\n",
       " '00626.jpg',\n",
       " '00627.jpg',\n",
       " '00628.jpg',\n",
       " '00629.jpg',\n",
       " '00630.jpg',\n",
       " '00631.jpg',\n",
       " '00632.jpg',\n",
       " '00633.jpg',\n",
       " '00634.jpg',\n",
       " '00635.jpg',\n",
       " '00636.jpg',\n",
       " '00637.jpg',\n",
       " '00638.jpg',\n",
       " '00639.jpg',\n",
       " '00640.jpg',\n",
       " '00641.jpg',\n",
       " '00642.jpg',\n",
       " '00643.jpg',\n",
       " '00644.jpg',\n",
       " '00645.jpg',\n",
       " '00646.jpg',\n",
       " '00647.jpg',\n",
       " '00648.jpg',\n",
       " '00649.jpg',\n",
       " '00650.jpg',\n",
       " '00651.jpg',\n",
       " '00652.jpg',\n",
       " '00653.jpg',\n",
       " '00654.jpg',\n",
       " '00655.jpg',\n",
       " '00656.jpg',\n",
       " '00657.jpg',\n",
       " '00658.jpg',\n",
       " '00659.jpg',\n",
       " '00660.jpg',\n",
       " '00661.jpg',\n",
       " '00662.jpg',\n",
       " '00663.jpg',\n",
       " '00664.jpg',\n",
       " '00665.jpg',\n",
       " '00666.jpg',\n",
       " '00667.jpg',\n",
       " '00668.jpg',\n",
       " '00669.jpg',\n",
       " '00670.jpg',\n",
       " '00671.jpg',\n",
       " '00672.jpg',\n",
       " '00673.jpg',\n",
       " '00674.jpg',\n",
       " '00675.jpg',\n",
       " '00676.jpg',\n",
       " '00677.jpg',\n",
       " '00678.jpg',\n",
       " '00679.jpg',\n",
       " '00680.jpg',\n",
       " '00681.jpg',\n",
       " '00682.jpg',\n",
       " '00683.jpg',\n",
       " '00684.jpg',\n",
       " '00685.jpg',\n",
       " '00686.jpg',\n",
       " '00687.jpg',\n",
       " '00688.jpg',\n",
       " '00689.jpg',\n",
       " '00690.jpg',\n",
       " '00691.jpg',\n",
       " '00692.jpg',\n",
       " '00693.jpg',\n",
       " '00694.jpg',\n",
       " '00695.jpg',\n",
       " '00696.jpg',\n",
       " '00697.jpg',\n",
       " '00698.jpg',\n",
       " '00699.jpg',\n",
       " '00700.jpg',\n",
       " '00701.jpg',\n",
       " '00702.jpg',\n",
       " '00703.jpg',\n",
       " '00704.jpg',\n",
       " '00705.jpg',\n",
       " '00706.jpg',\n",
       " '00707.jpg',\n",
       " '00708.jpg',\n",
       " '00709.jpg',\n",
       " '00710.jpg',\n",
       " '00711.jpg',\n",
       " '00712.jpg',\n",
       " '00713.jpg',\n",
       " '00714.jpg',\n",
       " '00715.jpg',\n",
       " '00716.jpg',\n",
       " '00717.jpg',\n",
       " '00718.jpg',\n",
       " '00719.jpg',\n",
       " '00720.jpg',\n",
       " '00721.jpg',\n",
       " '00722.jpg',\n",
       " '00723.jpg',\n",
       " '00724.jpg',\n",
       " '00725.jpg',\n",
       " '00726.jpg',\n",
       " '00727.jpg',\n",
       " '00728.jpg',\n",
       " '00729.jpg',\n",
       " '00730.jpg',\n",
       " '00731.jpg',\n",
       " '00732.jpg',\n",
       " '00733.jpg',\n",
       " '00734.jpg',\n",
       " '00735.jpg',\n",
       " '00736.jpg',\n",
       " '00737.jpg',\n",
       " '00738.jpg',\n",
       " '00739.jpg',\n",
       " '00740.jpg',\n",
       " '00741.jpg',\n",
       " '00742.jpg',\n",
       " '00743.jpg',\n",
       " '00744.jpg',\n",
       " '00745.jpg',\n",
       " '00746.jpg',\n",
       " '00747.jpg',\n",
       " '00748.jpg',\n",
       " '00749.jpg',\n",
       " '00750.jpg',\n",
       " '00751.jpg',\n",
       " '00752.jpg',\n",
       " '00753.jpg',\n",
       " '00754.jpg',\n",
       " '00755.jpg',\n",
       " '00756.jpg',\n",
       " '00757.jpg',\n",
       " '00758.jpg',\n",
       " '00759.jpg',\n",
       " '00760.jpg',\n",
       " '00761.jpg',\n",
       " '00762.jpg',\n",
       " '00763.jpg',\n",
       " '00764.jpg',\n",
       " '00765.jpg',\n",
       " '00766.jpg',\n",
       " '00767.jpg',\n",
       " '00768.jpg',\n",
       " '00769.jpg',\n",
       " '00770.jpg',\n",
       " '00771.jpg',\n",
       " '00772.jpg',\n",
       " '00773.jpg',\n",
       " '00774.jpg',\n",
       " '00775.jpg',\n",
       " '00776.jpg',\n",
       " '00777.jpg',\n",
       " '00778.jpg',\n",
       " '00779.jpg',\n",
       " '00780.jpg',\n",
       " '00781.jpg',\n",
       " '00782.jpg',\n",
       " '00783.jpg',\n",
       " '00784.jpg',\n",
       " '00785.jpg',\n",
       " '00786.jpg',\n",
       " '00787.jpg',\n",
       " '00788.jpg',\n",
       " '00789.jpg',\n",
       " '00790.jpg',\n",
       " '00791.jpg',\n",
       " '00792.jpg',\n",
       " '00793.jpg',\n",
       " '00794.jpg',\n",
       " '00795.jpg',\n",
       " '00796.jpg',\n",
       " '00797.jpg',\n",
       " '00798.jpg',\n",
       " '00799.jpg',\n",
       " '00800.jpg',\n",
       " '00801.jpg',\n",
       " '00802.jpg',\n",
       " '00803.jpg',\n",
       " '00804.jpg',\n",
       " '00805.jpg',\n",
       " '00806.jpg',\n",
       " '00807.jpg',\n",
       " '00808.jpg',\n",
       " '00809.jpg',\n",
       " '00810.jpg',\n",
       " '00811.jpg',\n",
       " '00812.jpg',\n",
       " '00813.jpg',\n",
       " '00814.jpg',\n",
       " '00815.jpg',\n",
       " '00816.jpg',\n",
       " '00817.jpg',\n",
       " '00818.jpg',\n",
       " '00819.jpg',\n",
       " '00820.jpg',\n",
       " '00821.jpg',\n",
       " '00822.jpg',\n",
       " '00823.jpg',\n",
       " '00824.jpg',\n",
       " '00825.jpg',\n",
       " '00826.jpg',\n",
       " '00827.jpg',\n",
       " '00828.jpg',\n",
       " '00829.jpg',\n",
       " '00830.jpg',\n",
       " '00831.jpg',\n",
       " '00832.jpg',\n",
       " '00833.jpg',\n",
       " '00834.jpg',\n",
       " '00835.jpg',\n",
       " '00836.jpg',\n",
       " '00837.jpg',\n",
       " '00838.jpg',\n",
       " '00839.jpg',\n",
       " '00840.jpg',\n",
       " '00841.jpg',\n",
       " '00842.jpg',\n",
       " '00843.jpg',\n",
       " '00844.jpg',\n",
       " '00845.jpg',\n",
       " '00846.jpg',\n",
       " '00847.jpg',\n",
       " '00848.jpg',\n",
       " '00849.jpg',\n",
       " '00850.jpg',\n",
       " '00851.jpg',\n",
       " '00852.jpg',\n",
       " '00853.jpg',\n",
       " '00854.jpg',\n",
       " '00855.jpg',\n",
       " '00856.jpg',\n",
       " '00857.jpg',\n",
       " '00858.jpg',\n",
       " '00859.jpg',\n",
       " '00860.jpg',\n",
       " '00861.jpg',\n",
       " '00862.jpg',\n",
       " '00863.jpg',\n",
       " '00864.jpg',\n",
       " '00865.jpg',\n",
       " '00866.jpg',\n",
       " '00867.jpg',\n",
       " '00868.jpg',\n",
       " '00869.jpg',\n",
       " '00870.jpg',\n",
       " '00871.jpg',\n",
       " '00872.jpg',\n",
       " '00873.jpg',\n",
       " '00874.jpg',\n",
       " '00875.jpg',\n",
       " '00876.jpg',\n",
       " '00877.jpg',\n",
       " '00878.jpg',\n",
       " '00879.jpg',\n",
       " '00880.jpg',\n",
       " '00881.jpg',\n",
       " '00882.jpg',\n",
       " '00883.jpg',\n",
       " '00884.jpg',\n",
       " '00885.jpg',\n",
       " '00886.jpg',\n",
       " '00887.jpg',\n",
       " '00888.jpg',\n",
       " '00889.jpg',\n",
       " '00890.jpg',\n",
       " '00891.jpg',\n",
       " '00892.jpg',\n",
       " '00893.jpg',\n",
       " '00894.jpg',\n",
       " '00895.jpg',\n",
       " '00896.jpg',\n",
       " '00897.jpg',\n",
       " '00898.jpg',\n",
       " '00899.jpg',\n",
       " '00900.jpg',\n",
       " '00901.jpg',\n",
       " '00902.jpg',\n",
       " '00903.jpg',\n",
       " '00904.jpg',\n",
       " '00905.jpg',\n",
       " '00906.jpg',\n",
       " '00907.jpg',\n",
       " '00908.jpg',\n",
       " '00909.jpg',\n",
       " '00910.jpg',\n",
       " '00911.jpg',\n",
       " '00912.jpg',\n",
       " '00913.jpg',\n",
       " '00914.jpg',\n",
       " '00915.jpg',\n",
       " '00916.jpg',\n",
       " '00917.jpg',\n",
       " '00918.jpg',\n",
       " '00919.jpg',\n",
       " '00920.jpg',\n",
       " '00921.jpg',\n",
       " '00922.jpg',\n",
       " '00923.jpg',\n",
       " '00924.jpg',\n",
       " '00925.jpg',\n",
       " '00926.jpg',\n",
       " '00927.jpg',\n",
       " '00928.jpg',\n",
       " '00929.jpg',\n",
       " '00930.jpg',\n",
       " '00931.jpg',\n",
       " '00932.jpg',\n",
       " '00933.jpg',\n",
       " '00934.jpg',\n",
       " '00935.jpg',\n",
       " '00936.jpg',\n",
       " '00937.jpg',\n",
       " '00938.jpg',\n",
       " '00939.jpg',\n",
       " '00940.jpg',\n",
       " '00941.jpg',\n",
       " '00942.jpg',\n",
       " '00943.jpg',\n",
       " '00944.jpg',\n",
       " '00945.jpg',\n",
       " '00946.jpg',\n",
       " '00947.jpg',\n",
       " '00948.jpg',\n",
       " '00949.jpg',\n",
       " '00950.jpg',\n",
       " '00951.jpg',\n",
       " '00952.jpg',\n",
       " '00953.jpg',\n",
       " '00954.jpg',\n",
       " '00955.jpg',\n",
       " '00956.jpg',\n",
       " '00957.jpg',\n",
       " '00958.jpg',\n",
       " '00959.jpg',\n",
       " '00960.jpg',\n",
       " '00961.jpg',\n",
       " '00962.jpg',\n",
       " '00963.jpg',\n",
       " '00964.jpg',\n",
       " '00965.jpg',\n",
       " '00966.jpg',\n",
       " '00967.jpg',\n",
       " '00968.jpg',\n",
       " '00969.jpg',\n",
       " '00970.jpg',\n",
       " '00971.jpg',\n",
       " '00972.jpg',\n",
       " '00973.jpg',\n",
       " '00974.jpg',\n",
       " '00975.jpg',\n",
       " '00976.jpg',\n",
       " '00977.jpg',\n",
       " '00978.jpg',\n",
       " '00979.jpg',\n",
       " '00980.jpg',\n",
       " '00981.jpg',\n",
       " '00982.jpg',\n",
       " '00983.jpg',\n",
       " '00984.jpg',\n",
       " '00985.jpg',\n",
       " '00986.jpg',\n",
       " '00987.jpg',\n",
       " '00988.jpg',\n",
       " '00989.jpg',\n",
       " '00990.jpg',\n",
       " '00991.jpg',\n",
       " '00992.jpg',\n",
       " '00993.jpg',\n",
       " '00994.jpg',\n",
       " '00995.jpg',\n",
       " '00996.jpg',\n",
       " '00997.jpg',\n",
       " '00998.jpg',\n",
       " '00999.jpg',\n",
       " ...]"
      ]
     },
     "execution_count": 41,
     "metadata": {},
     "output_type": "execute_result"
    }
   ],
   "source": [
    "os.listdir(TRAIN_PATH)"
   ]
  },
  {
   "cell_type": "code",
   "execution_count": null,
   "metadata": {},
   "outputs": [],
   "source": [
    "im_rsz.save('maradona_ds.jpeg')"
   ]
  },
  {
   "cell_type": "code",
   "execution_count": null,
   "metadata": {},
   "outputs": [
    {
     "data": {
      "text/plain": [
       "array([[[122, 132, 144],\n",
       "        [122, 132, 142],\n",
       "        [123, 131, 142],\n",
       "        ...,\n",
       "        [ 86,  84,  87],\n",
       "        [ 85,  83,  84],\n",
       "        [ 85,  83,  84]],\n",
       "\n",
       "       [[123, 133, 143],\n",
       "        [123, 133, 143],\n",
       "        [124, 133, 142],\n",
       "        ...,\n",
       "        [ 87,  85,  88],\n",
       "        [ 86,  84,  85],\n",
       "        [ 86,  84,  85]],\n",
       "\n",
       "       [[124, 132, 143],\n",
       "        [124, 133, 142],\n",
       "        [124, 133, 142],\n",
       "        ...,\n",
       "        [ 89,  87,  90],\n",
       "        [ 88,  86,  89],\n",
       "        [ 87,  85,  88]],\n",
       "\n",
       "       ...,\n",
       "\n",
       "       [[ 84, 103,  99],\n",
       "        [ 77,  96,  94],\n",
       "        [ 54,  74,  73],\n",
       "        ...,\n",
       "        [ 45,  72,  81],\n",
       "        [ 48,  77,  85],\n",
       "        [ 71, 100, 106]],\n",
       "\n",
       "       [[ 74,  93,  89],\n",
       "        [ 78,  97,  95],\n",
       "        [ 58,  78,  77],\n",
       "        ...,\n",
       "        [ 54,  81,  90],\n",
       "        [ 44,  73,  81],\n",
       "        [ 53,  82,  88]],\n",
       "\n",
       "       [[ 62,  81,  77],\n",
       "        [ 76,  95,  93],\n",
       "        [ 60,  80,  79],\n",
       "        ...,\n",
       "        [ 50,  77,  86],\n",
       "        [ 40,  69,  77],\n",
       "        [ 50,  79,  85]]], dtype=uint8)"
      ]
     },
     "execution_count": 18,
     "metadata": {},
     "output_type": "execute_result"
    }
   ],
   "source": [
    "np.array(im)"
   ]
  },
  {
   "cell_type": "markdown",
   "metadata": {},
   "source": [
    "# Image Transformation Experiment"
   ]
  },
  {
   "cell_type": "code",
   "execution_count": 4,
   "metadata": {},
   "outputs": [],
   "source": [
    "id_file_path = \"D:Dataset/CelebA/list_landmarks_align_celeba.csv\"\n",
    "img_folder_path = \"D:Dataset/CelebA/img_align_celeba/img_align_celeba/\""
   ]
  },
  {
   "cell_type": "code",
   "execution_count": 5,
   "metadata": {},
   "outputs": [
    {
     "data": {
      "text/html": [
       "<div>\n",
       "<style scoped>\n",
       "    .dataframe tbody tr th:only-of-type {\n",
       "        vertical-align: middle;\n",
       "    }\n",
       "\n",
       "    .dataframe tbody tr th {\n",
       "        vertical-align: top;\n",
       "    }\n",
       "\n",
       "    .dataframe thead th {\n",
       "        text-align: right;\n",
       "    }\n",
       "</style>\n",
       "<table border=\"1\" class=\"dataframe\">\n",
       "  <thead>\n",
       "    <tr style=\"text-align: right;\">\n",
       "      <th></th>\n",
       "      <th>image_id</th>\n",
       "      <th>lefteye_x</th>\n",
       "      <th>lefteye_y</th>\n",
       "      <th>righteye_x</th>\n",
       "      <th>righteye_y</th>\n",
       "      <th>nose_x</th>\n",
       "      <th>nose_y</th>\n",
       "      <th>leftmouth_x</th>\n",
       "      <th>leftmouth_y</th>\n",
       "      <th>rightmouth_x</th>\n",
       "      <th>rightmouth_y</th>\n",
       "    </tr>\n",
       "  </thead>\n",
       "  <tbody>\n",
       "    <tr>\n",
       "      <th>0</th>\n",
       "      <td>000001.jpg</td>\n",
       "      <td>69</td>\n",
       "      <td>109</td>\n",
       "      <td>106</td>\n",
       "      <td>113</td>\n",
       "      <td>77</td>\n",
       "      <td>142</td>\n",
       "      <td>73</td>\n",
       "      <td>152</td>\n",
       "      <td>108</td>\n",
       "      <td>154</td>\n",
       "    </tr>\n",
       "    <tr>\n",
       "      <th>1</th>\n",
       "      <td>000002.jpg</td>\n",
       "      <td>69</td>\n",
       "      <td>110</td>\n",
       "      <td>107</td>\n",
       "      <td>112</td>\n",
       "      <td>81</td>\n",
       "      <td>135</td>\n",
       "      <td>70</td>\n",
       "      <td>151</td>\n",
       "      <td>108</td>\n",
       "      <td>153</td>\n",
       "    </tr>\n",
       "    <tr>\n",
       "      <th>2</th>\n",
       "      <td>000003.jpg</td>\n",
       "      <td>76</td>\n",
       "      <td>112</td>\n",
       "      <td>104</td>\n",
       "      <td>106</td>\n",
       "      <td>108</td>\n",
       "      <td>128</td>\n",
       "      <td>74</td>\n",
       "      <td>156</td>\n",
       "      <td>98</td>\n",
       "      <td>158</td>\n",
       "    </tr>\n",
       "    <tr>\n",
       "      <th>3</th>\n",
       "      <td>000004.jpg</td>\n",
       "      <td>72</td>\n",
       "      <td>113</td>\n",
       "      <td>108</td>\n",
       "      <td>108</td>\n",
       "      <td>101</td>\n",
       "      <td>138</td>\n",
       "      <td>71</td>\n",
       "      <td>155</td>\n",
       "      <td>101</td>\n",
       "      <td>151</td>\n",
       "    </tr>\n",
       "    <tr>\n",
       "      <th>4</th>\n",
       "      <td>000005.jpg</td>\n",
       "      <td>66</td>\n",
       "      <td>114</td>\n",
       "      <td>112</td>\n",
       "      <td>112</td>\n",
       "      <td>86</td>\n",
       "      <td>119</td>\n",
       "      <td>71</td>\n",
       "      <td>147</td>\n",
       "      <td>104</td>\n",
       "      <td>150</td>\n",
       "    </tr>\n",
       "  </tbody>\n",
       "</table>\n",
       "</div>"
      ],
      "text/plain": [
       "     image_id  lefteye_x  lefteye_y  righteye_x  righteye_y  nose_x  nose_y  \\\n",
       "0  000001.jpg         69        109         106         113      77     142   \n",
       "1  000002.jpg         69        110         107         112      81     135   \n",
       "2  000003.jpg         76        112         104         106     108     128   \n",
       "3  000004.jpg         72        113         108         108     101     138   \n",
       "4  000005.jpg         66        114         112         112      86     119   \n",
       "\n",
       "   leftmouth_x  leftmouth_y  rightmouth_x  rightmouth_y  \n",
       "0           73          152           108           154  \n",
       "1           70          151           108           153  \n",
       "2           74          156            98           158  \n",
       "3           71          155           101           151  \n",
       "4           71          147           104           150  "
      ]
     },
     "execution_count": 5,
     "metadata": {},
     "output_type": "execute_result"
    }
   ],
   "source": [
    "tbl_id =  pd.read_csv(id_file_path)\n",
    "tbl_id.head(5)"
   ]
  },
  {
   "cell_type": "code",
   "execution_count": 6,
   "metadata": {},
   "outputs": [],
   "source": [
    "tbl_dict = tbl_id.to_dict()"
   ]
  },
  {
   "cell_type": "code",
   "execution_count": 7,
   "metadata": {},
   "outputs": [],
   "source": [
    "attr_name = []\n",
    "for i in list(tbl_dict.keys())[1:]:\n",
    "    attr_name.append(i.split('_')[0])\n",
    "\n",
    "attr_name = list(set(attr_name))"
   ]
  },
  {
   "cell_type": "code",
   "execution_count": 8,
   "metadata": {},
   "outputs": [],
   "source": [
    "new_dict={}\n",
    "for i in attr_name:\n",
    "    new_dict[i]=list(zip(tbl_dict[i+'_x'].values(),tbl_dict[i+'_y'].values()))"
   ]
  },
  {
   "cell_type": "code",
   "execution_count": 9,
   "metadata": {},
   "outputs": [],
   "source": [
    "list_values=[]\n",
    "for i in attr_name:\n",
    "    list_values.append(list(zip(tbl_dict[i+'_x'].values(),tbl_dict[i+'_y'].values())))"
   ]
  },
  {
   "cell_type": "code",
   "execution_count": 10,
   "metadata": {},
   "outputs": [
    {
     "data": {
      "text/plain": [
       "((108, 154), (106, 113), (69, 109), (73, 152), (77, 142))"
      ]
     },
     "execution_count": 10,
     "metadata": {},
     "output_type": "execute_result"
    }
   ],
   "source": [
    "ab=list(zip(*list_values))\n",
    "ab[0]"
   ]
  },
  {
   "cell_type": "code",
   "execution_count": 11,
   "metadata": {},
   "outputs": [],
   "source": [
    "new_dict['image_id']=tbl_id['image_id']\n",
    "img_id_list = tbl_id['image_id']"
   ]
  },
  {
   "cell_type": "code",
   "execution_count": 12,
   "metadata": {},
   "outputs": [],
   "source": [
    "im = Image.open(os.path.join(img_folder_path,img_id_list[20]))"
   ]
  },
  {
   "cell_type": "code",
   "execution_count": 13,
   "metadata": {},
   "outputs": [
    {
     "name": "stdout",
     "output_type": "stream",
     "text": [
      "(178, 218)\n"
     ]
    },
    {
     "data": {
      "image/png": "[encoded data removed]",
      "text/plain": [
       "<PIL.JpegImagePlugin.JpegImageFile image mode=RGB size=178x218 at 0x27B519E26D0>"
      ]
     },
     "execution_count": 13,
     "metadata": {},
     "output_type": "execute_result"
    }
   ],
   "source": [
    "print(im.size)\n",
    "im"
   ]
  },
  {
   "cell_type": "code",
   "execution_count": 16,
   "metadata": {},
   "outputs": [],
   "source": [
    "def gaussian_k(x0,y0,sigma, height, width):\n",
    "        \"\"\" Make a square gaussian kernel centered at (x0, y0) with sigma as SD.\n",
    "        \"\"\"\n",
    "        x = np.arange(0, width, 1, float) ## (width,)\n",
    "        y = np.arange(0, height, 1, float)[:, np.newaxis] ## (height,1)\n",
    "        return np.exp(-((x-x0)**2 + (y-y0)**2) / (2*sigma**2))\n",
    "\n",
    "def generate_hm(height, width ,landmarks,s=3):\n",
    "        \"\"\" Generate a full Heap Map for every landmarks in an array\n",
    "        Args:\n",
    "            height    : The height of Heat Map (the height of target output)\n",
    "            width     : The width  of Heat Map (the width of target output)\n",
    "            joints    : [(x1,y1),(x2,y2)...] containing landmarks\n",
    "            maxlenght : Lenght of the Bounding Box\n",
    "        \"\"\"\n",
    "        Nlandmarks = len(landmarks)\n",
    "        hm = np.zeros((height, width, Nlandmarks), dtype = np.float32)\n",
    "        for i in range(Nlandmarks):\n",
    "            if not np.array_equal(landmarks[i], [-1,-1]):\n",
    "                hm[:,:,i] = gaussian_k(landmarks[i][0],\n",
    "                                        landmarks[i][1],\n",
    "                                        s,height, width)\n",
    "            else:\n",
    "                hm[:,:,i] = np.zeros((height,width))\n",
    "        return hm"
   ]
  },
  {
   "cell_type": "code",
   "execution_count": 17,
   "metadata": {},
   "outputs": [
    {
     "name": "stdout",
     "output_type": "stream",
     "text": [
      "(218, 178, 5)\n"
     ]
    },
    {
     "data": {
      "text/plain": [
       "<matplotlib.image.AxesImage at 0x27b6f0b67c0>"
      ]
     },
     "execution_count": 17,
     "metadata": {},
     "output_type": "execute_result"
    },
    {
     "data": {
      "image/png": "[encoded data removed]",
      "text/plain": [
       "<Figure size 432x288 with 1 Axes>"
      ]
     },
     "metadata": {
      "needs_background": "light"
     },
     "output_type": "display_data"
    }
   ],
   "source": [
    "hm_map = generate_hm(im.size[1],im.size[0],ab[20])\n",
    "print(hm_map.shape)\n",
    "hm_map = np.amax(hm_map,2)\n",
    "plt.imshow(hm_map)"
   ]
  },
  {
   "cell_type": "markdown",
   "metadata": {},
   "source": [
    "plot landmark in face image"
   ]
  },
  {
   "cell_type": "code",
   "execution_count": 18,
   "metadata": {},
   "outputs": [
    {
     "data": {
      "text/plain": [
       "<matplotlib.image.AxesImage at 0x27b6fa42100>"
      ]
     },
     "execution_count": 18,
     "metadata": {},
     "output_type": "execute_result"
    },
    {
     "data": {
      "image/png": "[encoded data removed]",
      "text/plain": [
       "<Figure size 432x288 with 1 Axes>"
      ]
     },
     "metadata": {
      "needs_background": "light"
     },
     "output_type": "display_data"
    }
   ],
   "source": [
    "img_gray = np.asarray(im.convert('L'))/255\n",
    "plt.imshow(np.maximum(img_gray,hm_map),cmap='gray')"
   ]
  },
  {
   "cell_type": "markdown",
   "metadata": {},
   "source": [
    "### Rotate Image"
   ]
  },
  {
   "cell_type": "code",
   "execution_count": 100,
   "metadata": {},
   "outputs": [],
   "source": [
    "max_scale=0.01\n",
    "max_rotation=0.01\n",
    "max_shift=0.002\n",
    "max_shear=0\n",
    "mode=\"edge\""
   ]
  },
  {
   "cell_type": "code",
   "execution_count": 108,
   "metadata": {},
   "outputs": [
    {
     "name": "stdout",
     "output_type": "stream",
     "text": [
      "(1.0083699306291825, 1.0021102791032122)\n",
      "-0.13685233930303461\n",
      "(0.0002519728733187624, -0.0019200828653087613)\n",
      "0.0\n"
     ]
    },
    {
     "data": {
      "text/plain": [
       "<matplotlib.image.AxesImage at 0x27b73c7f250>"
      ]
     },
     "execution_count": 108,
     "metadata": {},
     "output_type": "execute_result"
    },
    {
     "data": {
      "image/png": "[encoded data removed]",
      "text/plain": [
       "<Figure size 432x288 with 1 Axes>"
      ]
     },
     "metadata": {
      "needs_background": "light"
     },
     "output_type": "display_data"
    }
   ],
   "source": [
    "def warp_image(img_gray,hm_map,max_scale,max_rotation,max_shift,max_shear,mode):\n",
    "    scale = (np.random.uniform(1-max_scale, 1 + max_scale),\n",
    "                np.random.uniform(1-max_scale, 1 + max_scale))\n",
    "    rotation_tmp = np.random.uniform(-1*max_rotation, max_rotation)\n",
    "    translation = (np.random.uniform(-1*max_shift, max_shift),\n",
    "                    np.random.uniform(-1*max_shift, max_shift))\n",
    "    shear = np.random.uniform(-1*max_shear, max_shear)\n",
    "\n",
    "    print(scale)\n",
    "    print(np.rad2deg(rotation_tmp))\n",
    "    print(translation)\n",
    "    print(shear)\n",
    "    tform = AffineTransform(\n",
    "                scale=scale,#,\n",
    "                ## Convert angles from degrees to radians.\n",
    "                rotation=np.rad2deg(rotation_tmp),\n",
    "                translation=translation,\n",
    "                shear=np.deg2rad(shear)\n",
    "            )\n",
    "    img_gray_tf = transform.warp(img_gray, tform,mode=mode)\n",
    "    #plt.imshow(img_gray_tf,cmap='gray')\n",
    "\n",
    "    hm_map_warp = transform.warp(hm_map, tform,mode=mode)\n",
    "    #plt.imshow(hm_map_warp,cmap='gray')\n",
    "    return img_gray_tf,hm_map_warp\n",
    "\n",
    "img_gray_tf,hm_map_warp = warp_image(img_gray,hm_map,max_scale,max_rotation,max_shift,max_shear,mode='edge')\n",
    "plt.imshow(np.maximum(img_gray_tf,hm_map_warp),cmap='gray')"
   ]
  },
  {
   "cell_type": "code",
   "execution_count": 109,
   "metadata": {},
   "outputs": [
    {
     "data": {
      "text/plain": [
       "<AffineTransform(matrix=\n",
       "    [[ 0.98369325,  0.22353326,  0.01508024],\n",
       "     [-0.22394043,  0.98190468,  0.00980817],\n",
       "     [ 0.        ,  0.        ,  1.        ]]) at 0x27b72349be0>"
      ]
     },
     "execution_count": 109,
     "metadata": {},
     "output_type": "execute_result"
    }
   ],
   "source": [
    "tform = transform.estimate_transform('affinity', [], []])"
   ]
  },
  {
   "cell_type": "code",
   "execution_count": 44,
   "metadata": {},
   "outputs": [
    {
     "name": "stdout",
     "output_type": "stream",
     "text": [
      "(0.9900894612528746, 0.9775584270256628)\n",
      "-0.15686437078513515\n",
      "(1.6667857875690455, 0.28324770489482143)\n",
      "0.0\n"
     ]
    }
   ],
   "source": []
  },
  {
   "cell_type": "code",
   "execution_count": null,
   "metadata": {},
   "outputs": [],
   "source": [
    "landmark_order = {\"orig\" : [0,1,2,3,4,5,6,7,8,9,11,12],\n",
    "                  \"new\"  : [1,0,4,5,2,3,8,9,6,7,12,11]}"
   ]
  },
  {
   "cell_type": "code",
   "execution_count": null,
   "metadata": {},
   "outputs": [],
   "source": [
    "def transform_img(data,\n",
    "                  loc_w_batch=2,\n",
    "                  max_rotation=0.01,\n",
    "                  max_shift=2,\n",
    "                  max_shear=0,\n",
    "                  max_scale=0.01,mode=\"edge\"):\n",
    "    '''\n",
    "    data : list of numpy arrays containing a single image\n",
    "    e.g., data = [X, y, w] or data = [X, y]\n",
    "    X.shape = (height, width, NfeatX)\n",
    "    y.shape = (height, width, Nfeaty)\n",
    "    w.shape = (height, width, Nfeatw)\n",
    "    NfeatX, Nfeaty and Nfeatw can be different\n",
    "    \n",
    "    affine transformation for a single image\n",
    "    \n",
    "    loc_w_batch : the location of the weights in the fourth dimention\n",
    "    [,,,loc_w_batch]\n",
    "    '''\n",
    "    scale = (np.random.uniform(1-max_scale, 1 + max_scale),\n",
    "             np.random.uniform(1-max_scale, 1 + max_scale))\n",
    "    rotation_tmp = np.random.uniform(-1*max_rotation, max_rotation)\n",
    "    translation = (np.random.uniform(-1*max_shift, max_shift),\n",
    "                   np.random.uniform(-1*max_shift, max_shift))\n",
    "    shear = np.random.uniform(-1*max_shear, max_shear)\n",
    "    tform = AffineTransform(\n",
    "            scale=scale,#,\n",
    "            ## Convert angles from degrees to radians.\n",
    "            rotation=np.deg2rad(rotation_tmp),\n",
    "            translation=translation,\n",
    "            shear=np.deg2rad(shear)\n",
    "        )\n",
    "    \n",
    "    for idata, d in enumerate(data):\n",
    "        if idata != loc_w_batch:\n",
    "            ## We do NOT need to do affine transformation for weights\n",
    "            ## as weights are fixed for each (image,landmark) combination\n",
    "            data[idata] = transform.warp(d, tform,mode=mode)\n",
    "    return data\n",
    "def transform_imgs(data, lm, \n",
    "                   loc_y_batch = 1, \n",
    "                   loc_w_batch = 2):\n",
    "    '''\n",
    "    data : list of numpy arrays containing a single image\n",
    "    e.g., data = [X, y, w] or data = [X, y]\n",
    "    X.shape = (height, width, NfeatX)\n",
    "    y.shape = (height, width, Nfeaty)\n",
    "    w.shape = (height, width, Nfeatw)\n",
    "    NfeatX, Nfeaty and Nfeatw can be different\n",
    "    \n",
    "    affine transformation for a single image\n",
    "    '''\n",
    "    Nrow  = data[0].shape[0]\n",
    "    Ndata = len(data) \n",
    "    data_transform = [[] for i in range(Ndata)]\n",
    "    for irow in range(Nrow):\n",
    "        data_row = []\n",
    "        for idata in range(Ndata):\n",
    "            data_row.append(data[idata][irow])\n",
    "        ## affine transformation\n",
    "        data_row_transform = transform_img(data_row,\n",
    "                                          loc_w_batch)\n",
    "        ## horizontal flip\n",
    "        data_row_transform = horizontal_flip(data_row_transform,\n",
    "                                             lm,\n",
    "                                             loc_y_batch,\n",
    "                                             loc_w_batch)\n",
    "        \n",
    "        for idata in range(Ndata):\n",
    "            data_transform[idata].append(data_row_transform[idata])\n",
    "    \n",
    "    for idata in range(Ndata):\n",
    "        data_transform[idata] = np.array(data_transform[idata])\n",
    "    \n",
    "    \n",
    "    return(data_transform)\n",
    "\n",
    "def horizontal_flip(data,lm,loc_y_batch=1,loc_w_batch=2):  \n",
    "    '''\n",
    "    flip the image with 50% chance\n",
    "    \n",
    "    lm is a dictionary containing \"orig\" and \"new\" key\n",
    "    This must indicate the potitions of heatmaps that need to be flipped  \n",
    "    landmark_order = {\"orig\" : [0,1,2,3,4,5,6,7,8,9,11,12],\n",
    "                      \"new\"  : [1,0,4,5,2,3,8,9,6,7,12,11]}\n",
    "                      \n",
    "    data = [X, y, w]\n",
    "    w is optional and if it is in the code, the position needs to be specified\n",
    "    with loc_w_batch\n",
    "    \n",
    "    X.shape (height,width,n_channel)\n",
    "    y.shape (height,width,n_landmarks)\n",
    "    w.shape (height,width,n_landmarks)\n",
    "    '''\n",
    "    lo, ln = np.array(lm[\"orig\"]), np.array(lm[\"new\"])\n",
    "\n",
    "    assert len(lo) == len(ln)\n",
    "    if np.random.choice([0,1]) == 1:\n",
    "        return(data)\n",
    "    \n",
    "    for i, d in enumerate(data):\n",
    "        d = d[:, ::-1,:] \n",
    "        data[i] = d\n",
    "\n",
    "\n",
    "    data[loc_y_batch] = swap_index_for_horizontal_flip(\n",
    "        data[loc_y_batch], lo, ln)\n",
    "\n",
    "    # when horizontal flip happens to image, we need to heatmap (y) and weights y and w\n",
    "    # do this if loc_w_batch is within data length\n",
    "    if loc_w_batch < len(data):\n",
    "        data[loc_w_batch] = swap_index_for_horizontal_flip(\n",
    "            data[loc_w_batch], lo, ln)\n",
    "    return(data)\n",
    "\n",
    "def swap_index_for_horizontal_flip(y_batch, lo, ln):\n",
    "    '''\n",
    "    lm = {\"orig\" : [0,1,2,3,4,5,6,7,8,9,11,12],\n",
    "          \"new\"  : [1,0,4,5,2,3,8,9,6,7,12,11]}\n",
    "    lo, ln = np.array(lm[\"orig\"]), np.array(lm[\"new\"])                  \n",
    "    '''\n",
    "    y_orig = y_batch[:,:, lo]\n",
    "    y_batch[:,:, lo] = y_batch[:,:, ln] \n",
    "    y_batch[:,:, ln] = y_orig\n",
    "    return(y_batch)"
   ]
  },
  {
   "cell_type": "code",
   "execution_count": null,
   "metadata": {},
   "outputs": [],
   "source": []
  },
  {
   "cell_type": "code",
   "execution_count": null,
   "metadata": {},
   "outputs": [],
   "source": []
  },
  {
   "cell_type": "code",
   "execution_count": null,
   "metadata": {},
   "outputs": [],
   "source": [
    "FTRAIN = \"data/training.csv\"\n",
    "FTEST  = \"data/test.csv\"\n",
    "FIdLookup = 'data/IdLookupTable.csv'"
   ]
  },
  {
   "cell_type": "code",
   "execution_count": 110,
   "metadata": {},
   "outputs": [],
   "source": [
    "def gaussian_k(x0,y0,sigma, height, width):\n",
    "        \"\"\" Make a square gaussian kernel centered at (x0, y0) with sigma as SD.\n",
    "        \"\"\"\n",
    "        x = np.arange(0, width, 1, float) ## (width,)\n",
    "        y = np.arange(0, height, 1, float)[:, np.newaxis] ## (height,1)\n",
    "        return np.exp(-((x-x0)**2 + (y-y0)**2) / (2*sigma**2))\n",
    "\n",
    "def generate_hm(height, width ,landmarks,s=3):\n",
    "        \"\"\" Generate a full Heap Map for every landmarks in an array\n",
    "        Args:\n",
    "            height    : The height of Heat Map (the height of target output)\n",
    "            width     : The width  of Heat Map (the width of target output)\n",
    "            joints    : [(x1,y1),(x2,y2)...] containing landmarks\n",
    "            maxlenght : Lenght of the Bounding Box\n",
    "        \"\"\"\n",
    "        Nlandmarks = len(landmarks)\n",
    "        hm = np.zeros((height, width, Nlandmarks), dtype = np.float32)\n",
    "        for i in range(Nlandmarks):\n",
    "            if not np.array_equal(landmarks[i], [-1,-1]):\n",
    "                print(landmarks[i])\n",
    "                hm[:,:,i] = gaussian_k(landmarks[i][0],\n",
    "                                        landmarks[i][1],\n",
    "                                        s,height, width)\n",
    "            else:\n",
    "                hm[:,:,i] = np.zeros((height,width))\n",
    "        return hm\n",
    "    \n",
    "def get_y_as_heatmap(df,height,width, sigma):\n",
    "    \n",
    "    columns_lmxy = df.columns[1:] ## the first column contains Image\n",
    "    columns_lm = [] \n",
    "    for c in columns_lmxy:\n",
    "        c = c[:-2]\n",
    "        #if c not in columns_lm:\n",
    "        #    columns_lm.extend([c])\n",
    "    \n",
    "    y_train = []\n",
    "    for i in range(df.shape[0]):\n",
    "        landmarks = []\n",
    "        for colnm in columns_lm:\n",
    "            x = df[colnm + \"_x\"].iloc[i]\n",
    "            y = df[colnm + \"_y\"].iloc[i]\n",
    "            if np.isnan(x) or np.isnan(y):\n",
    "                x, y = -1, -1\n",
    "            landmarks.append([x,y])\n",
    "            \n",
    "        y_train.append(generate_hm(height, width, landmarks, sigma))\n",
    "    y_train = np.array(y_train)\n",
    "    \n",
    "    \n",
    "    return(y_train,df[columns_lmxy],columns_lmxy)"
   ]
  },
  {
   "cell_type": "code",
   "execution_count": 2,
   "metadata": {},
   "outputs": [],
   "source": [
    "def load(test=False, width=96,height=96,sigma=5):\n",
    "    \"\"\"\n",
    "    load test/train data\n",
    "    cols : a list containing landmark label names.\n",
    "           If this is specified, only the subset of the landmark labels are \n",
    "           extracted. for example, cols could be:\n",
    "           \n",
    "          [left_eye_center_x, left_eye_center_y]\n",
    "            \n",
    "    return: \n",
    "    X:  2-d numpy array (Nsample, Ncol*Nrow)\n",
    "    y:  2-d numpy array (Nsample, Nlandmarks*2) \n",
    "        In total there are 15 landmarks. \n",
    "        As x and y coordinates are recorded, u.shape = (Nsample,30)\n",
    "    y0: panda dataframe containins the landmarks\n",
    "       \n",
    "    \"\"\"\n",
    "    from sklearn.utils import shuffle\n",
    "    \n",
    "    fname = FTEST if test else FTRAIN\n",
    "    df = pd.read_csv(os.path.expanduser(fname)) \n",
    "\n",
    "    \n",
    "    df['Image'] = df['Image'].apply(lambda im: np.fromstring(im, sep=' '))\n",
    "\n",
    "\n",
    "    myprint = df.count()\n",
    "    myprint = myprint.reset_index()\n",
    "    print(myprint)  \n",
    "    ## row with at least one NA columns are removed!\n",
    "    ## df = df.dropna()  \n",
    "    df = df.fillna(-1)\n",
    "\n",
    "    X = np.vstack(df['Image'].values) / 255.  # changes valeus between 0 and 1\n",
    "    X = X.astype(np.float32)\n",
    "\n",
    "    if not test:  # labels only exists for the training data\n",
    "        y, y0, nm_landmark = get_y_as_heatmap(df,height,width, sigma)\n",
    "        X, y, y0 = shuffle(X, y, y0, random_state=42)  # shuffle data   \n",
    "        y = y.astype(np.float32)\n",
    "    else:\n",
    "        y, y0, nm_landmark = None, None, None\n",
    "    \n",
    "    return X, y, y0, nm_landmark\n",
    "\n",
    "def load2d(test=False,width=96,height=96,sigma=5):\n",
    "\n",
    "    re   = load(test,width,height,sigma)\n",
    "    X    = re[0].reshape(-1,width,height,1)\n",
    "    y, y0, nm_landmarks = re[1:]\n",
    "    \n",
    "    return X, y, y0, nm_landmarks"
   ]
  },
  {
   "cell_type": "code",
   "execution_count": null,
   "metadata": {},
   "outputs": [],
   "source": [
    "sigma = 5\n",
    "\n",
    "X_train, y_train, y_train0, nm_landmarks = load2d(test=False,sigma=sigma)\n",
    "X_test,  y_test, _, _ = load2d(test=True,sigma=sigma)\n",
    "print X_train.shape,y_train.shape, y_train0.shape\n",
    "print X_test.shape,y_test"
   ]
  },
  {
   "cell_type": "code",
   "execution_count": null,
   "metadata": {},
   "outputs": [],
   "source": []
  },
  {
   "cell_type": "markdown",
   "metadata": {},
   "source": [
    "# CELEB A PREPROCESSING"
   ]
  },
  {
   "cell_type": "code",
   "execution_count": 59,
   "metadata": {},
   "outputs": [],
   "source": [
    "path_celeb_img = \"D:/Dataset/CelebA/img_align_celeba/img_align_celeba\"\n",
    "df_eval=pd.read_csv(\"D:/Dataset/CelebA/list_eval_partition.csv\")"
   ]
  },
  {
   "cell_type": "code",
   "execution_count": 54,
   "metadata": {},
   "outputs": [],
   "source": [
    "list_img=df[df['partition']==0]['image_id'].values.tolist()\n",
    "for img_path in list_img[0:10000]:\n",
    "    path_dst = \"D:/Dataset/FFHQ_work/celeba_train/\"\n",
    "    shutil.copy2(os.path.join(path_celeb_img,img_path),path_dst)"
   ]
  },
  {
   "cell_type": "code",
   "execution_count": 55,
   "metadata": {},
   "outputs": [],
   "source": [
    "list_img=df[df['partition']==1]['image_id'].values.tolist()\n",
    "for img_path in list_img[0:5000]:\n",
    "    path_dst = \"D:/Dataset/FFHQ_work/celeba_val/\"\n",
    "    if not os.path.exists(path_dst):\n",
    "        os.makedirs(path_dst)\n",
    "    shutil.copy2(os.path.join(path_celeb_img,img_path),path_dst)"
   ]
  },
  {
   "cell_type": "code",
   "execution_count": 56,
   "metadata": {},
   "outputs": [],
   "source": [
    "list_img=df[df['partition']==2]['image_id'].values.tolist()\n",
    "for img_path in list_img[0:5000]:\n",
    "    path_dst = \"D:/Dataset/FFHQ_work/celeba_test/\"\n",
    "    if not os.path.exists(path_dst):\n",
    "        os.makedirs(path_dst)\n",
    "    shutil.copy2(os.path.join(path_celeb_img,img_path),path_dst)"
   ]
  },
  {
   "cell_type": "code",
   "execution_count": 51,
   "metadata": {},
   "outputs": [
    {
     "data": {
      "text/plain": [
       "19962"
      ]
     },
     "execution_count": 51,
     "metadata": {},
     "output_type": "execute_result"
    }
   ],
   "source": [
    "len(df[df['partition']==2]['image_id'].values.tolist())"
   ]
  },
  {
   "cell_type": "markdown",
   "metadata": {},
   "source": [
    "## Celeb A-HQ"
   ]
  },
  {
   "cell_type": "code",
   "execution_count": 91,
   "metadata": {},
   "outputs": [],
   "source": [
    "CELEBA_HQ_PATH = \"D:/Dataset/CelebAMask-HQ\"\n",
    "map_file = os.path.join(CELEBA_HQ_PATH,\"CelebA-HQ-to-CelebA-mapping.txt\")\n",
    "df_hq=pd.read_csv(map_file,sep='t',engine='python')"
   ]
  },
  {
   "cell_type": "code",
   "execution_count": 103,
   "metadata": {},
   "outputs": [
    {
     "name": "stderr",
     "output_type": "stream",
     "text": [
      "C:\\Users\\madin\\anaconda3\\lib\\site-packages\\IPython\\core\\interactiveshell.py:3444: FutureWarning: Could not cast to float64, falling back to object. This behavior is deprecated. In a future version, when a dtype is passed to 'DataFrame', either all columns will be cast to that dtype, or a TypeError will be raised\n",
      "  exec(code_obj, self.user_global_ns, self.user_ns)\n"
     ]
    }
   ],
   "source": [
    "with open(map_file) as file:\n",
    "    lines = file.readlines()\n",
    "    lines = [\";\".join(line.rstrip().split()).split(';') for line in lines][1:]\n",
    "\n",
    "df_hq = pd.DataFrame(lines, columns =['idx','orig_idx','orig_file'], dtype = float)"
   ]
  },
  {
   "cell_type": "code",
   "execution_count": 106,
   "metadata": {},
   "outputs": [
    {
     "data": {
      "text/plain": [
       "idx                10.0\n",
       "orig_idx       157745.0\n",
       "orig_file    157746.jpg\n",
       "Name: 10, dtype: object"
      ]
     },
     "execution_count": 106,
     "metadata": {},
     "output_type": "execute_result"
    }
   ],
   "source": [
    "df_hq.loc[10]"
   ]
  },
  {
   "cell_type": "code",
   "execution_count": 107,
   "metadata": {},
   "outputs": [
    {
     "name": "stdout",
     "output_type": "stream",
     "text": [
      "Index(['idx', 'orig_idx', 'orig_file'], dtype='object')\n"
     ]
    },
    {
     "data": {
      "text/html": [
       "<div>\n",
       "<style scoped>\n",
       "    .dataframe tbody tr th:only-of-type {\n",
       "        vertical-align: middle;\n",
       "    }\n",
       "\n",
       "    .dataframe tbody tr th {\n",
       "        vertical-align: top;\n",
       "    }\n",
       "\n",
       "    .dataframe thead th {\n",
       "        text-align: right;\n",
       "    }\n",
       "</style>\n",
       "<table border=\"1\" class=\"dataframe\">\n",
       "  <thead>\n",
       "    <tr style=\"text-align: right;\">\n",
       "      <th></th>\n",
       "      <th>idx</th>\n",
       "      <th>orig_idx</th>\n",
       "      <th>orig_file</th>\n",
       "    </tr>\n",
       "  </thead>\n",
       "  <tbody>\n",
       "    <tr>\n",
       "      <th>0</th>\n",
       "      <td>0.0</td>\n",
       "      <td>119613.0</td>\n",
       "      <td>119614.jpg</td>\n",
       "    </tr>\n",
       "    <tr>\n",
       "      <th>1</th>\n",
       "      <td>1.0</td>\n",
       "      <td>99094.0</td>\n",
       "      <td>099095.jpg</td>\n",
       "    </tr>\n",
       "    <tr>\n",
       "      <th>2</th>\n",
       "      <td>2.0</td>\n",
       "      <td>200121.0</td>\n",
       "      <td>200122.jpg</td>\n",
       "    </tr>\n",
       "    <tr>\n",
       "      <th>3</th>\n",
       "      <td>3.0</td>\n",
       "      <td>81059.0</td>\n",
       "      <td>081060.jpg</td>\n",
       "    </tr>\n",
       "    <tr>\n",
       "      <th>4</th>\n",
       "      <td>4.0</td>\n",
       "      <td>202040.0</td>\n",
       "      <td>202041.jpg</td>\n",
       "    </tr>\n",
       "  </tbody>\n",
       "</table>\n",
       "</div>"
      ],
      "text/plain": [
       "   idx  orig_idx   orig_file\n",
       "0  0.0  119613.0  119614.jpg\n",
       "1  1.0   99094.0  099095.jpg\n",
       "2  2.0  200121.0  200122.jpg\n",
       "3  3.0   81059.0  081060.jpg\n",
       "4  4.0  202040.0  202041.jpg"
      ]
     },
     "execution_count": 107,
     "metadata": {},
     "output_type": "execute_result"
    }
   ],
   "source": [
    "print(df_hq.columns)\n",
    "df_hq.head(5)"
   ]
  },
  {
   "cell_type": "code",
   "execution_count": 109,
   "metadata": {},
   "outputs": [],
   "source": [
    "df_comp=df_hq.merge(df_eval,left_on='orig_file',right_on='image_id',how='left')"
   ]
  },
  {
   "cell_type": "code",
   "execution_count": 114,
   "metadata": {},
   "outputs": [
    {
     "data": {
      "text/html": [
       "<div>\n",
       "<style scoped>\n",
       "    .dataframe tbody tr th:only-of-type {\n",
       "        vertical-align: middle;\n",
       "    }\n",
       "\n",
       "    .dataframe tbody tr th {\n",
       "        vertical-align: top;\n",
       "    }\n",
       "\n",
       "    .dataframe thead th {\n",
       "        text-align: right;\n",
       "    }\n",
       "</style>\n",
       "<table border=\"1\" class=\"dataframe\">\n",
       "  <thead>\n",
       "    <tr style=\"text-align: right;\">\n",
       "      <th></th>\n",
       "      <th>idx</th>\n",
       "      <th>orig_idx</th>\n",
       "      <th>orig_file</th>\n",
       "      <th>image_id</th>\n",
       "      <th>partition</th>\n",
       "    </tr>\n",
       "  </thead>\n",
       "  <tbody>\n",
       "    <tr>\n",
       "      <th>0</th>\n",
       "      <td>0.0</td>\n",
       "      <td>119613.0</td>\n",
       "      <td>119614.jpg</td>\n",
       "      <td>119614.jpg</td>\n",
       "      <td>0</td>\n",
       "    </tr>\n",
       "    <tr>\n",
       "      <th>1</th>\n",
       "      <td>1.0</td>\n",
       "      <td>99094.0</td>\n",
       "      <td>099095.jpg</td>\n",
       "      <td>099095.jpg</td>\n",
       "      <td>0</td>\n",
       "    </tr>\n",
       "    <tr>\n",
       "      <th>2</th>\n",
       "      <td>2.0</td>\n",
       "      <td>200121.0</td>\n",
       "      <td>200122.jpg</td>\n",
       "      <td>200122.jpg</td>\n",
       "      <td>2</td>\n",
       "    </tr>\n",
       "    <tr>\n",
       "      <th>3</th>\n",
       "      <td>3.0</td>\n",
       "      <td>81059.0</td>\n",
       "      <td>081060.jpg</td>\n",
       "      <td>081060.jpg</td>\n",
       "      <td>0</td>\n",
       "    </tr>\n",
       "    <tr>\n",
       "      <th>4</th>\n",
       "      <td>4.0</td>\n",
       "      <td>202040.0</td>\n",
       "      <td>202041.jpg</td>\n",
       "      <td>202041.jpg</td>\n",
       "      <td>2</td>\n",
       "    </tr>\n",
       "  </tbody>\n",
       "</table>\n",
       "</div>"
      ],
      "text/plain": [
       "   idx  orig_idx   orig_file    image_id  partition\n",
       "0  0.0  119613.0  119614.jpg  119614.jpg          0\n",
       "1  1.0   99094.0  099095.jpg  099095.jpg          0\n",
       "2  2.0  200121.0  200122.jpg  200122.jpg          2\n",
       "3  3.0   81059.0  081060.jpg  081060.jpg          0\n",
       "4  4.0  202040.0  202041.jpg  202041.jpg          2"
      ]
     },
     "execution_count": 114,
     "metadata": {},
     "output_type": "execute_result"
    }
   ],
   "source": [
    "df_comp.head(5)"
   ]
  },
  {
   "cell_type": "code",
   "execution_count": 132,
   "metadata": {},
   "outputs": [
    {
     "data": {
      "text/html": [
       "<div>\n",
       "<style scoped>\n",
       "    .dataframe tbody tr th:only-of-type {\n",
       "        vertical-align: middle;\n",
       "    }\n",
       "\n",
       "    .dataframe tbody tr th {\n",
       "        vertical-align: top;\n",
       "    }\n",
       "\n",
       "    .dataframe thead th {\n",
       "        text-align: right;\n",
       "    }\n",
       "</style>\n",
       "<table border=\"1\" class=\"dataframe\">\n",
       "  <thead>\n",
       "    <tr style=\"text-align: right;\">\n",
       "      <th></th>\n",
       "      <th>idx</th>\n",
       "      <th>orig_idx</th>\n",
       "      <th>orig_file</th>\n",
       "      <th>image_id</th>\n",
       "      <th>partition</th>\n",
       "      <th>file_name</th>\n",
       "    </tr>\n",
       "  </thead>\n",
       "  <tbody>\n",
       "    <tr>\n",
       "      <th>0</th>\n",
       "      <td>0.0</td>\n",
       "      <td>119613.0</td>\n",
       "      <td>119614.jpg</td>\n",
       "      <td>119614.jpg</td>\n",
       "      <td>0</td>\n",
       "      <td>0.jpg</td>\n",
       "    </tr>\n",
       "    <tr>\n",
       "      <th>1</th>\n",
       "      <td>1.0</td>\n",
       "      <td>99094.0</td>\n",
       "      <td>099095.jpg</td>\n",
       "      <td>099095.jpg</td>\n",
       "      <td>0</td>\n",
       "      <td>1.jpg</td>\n",
       "    </tr>\n",
       "    <tr>\n",
       "      <th>2</th>\n",
       "      <td>2.0</td>\n",
       "      <td>200121.0</td>\n",
       "      <td>200122.jpg</td>\n",
       "      <td>200122.jpg</td>\n",
       "      <td>2</td>\n",
       "      <td>2.jpg</td>\n",
       "    </tr>\n",
       "    <tr>\n",
       "      <th>3</th>\n",
       "      <td>3.0</td>\n",
       "      <td>81059.0</td>\n",
       "      <td>081060.jpg</td>\n",
       "      <td>081060.jpg</td>\n",
       "      <td>0</td>\n",
       "      <td>3.jpg</td>\n",
       "    </tr>\n",
       "    <tr>\n",
       "      <th>4</th>\n",
       "      <td>4.0</td>\n",
       "      <td>202040.0</td>\n",
       "      <td>202041.jpg</td>\n",
       "      <td>202041.jpg</td>\n",
       "      <td>2</td>\n",
       "      <td>4.jpg</td>\n",
       "    </tr>\n",
       "  </tbody>\n",
       "</table>\n",
       "</div>"
      ],
      "text/plain": [
       "   idx  orig_idx   orig_file    image_id  partition file_name\n",
       "0  0.0  119613.0  119614.jpg  119614.jpg          0     0.jpg\n",
       "1  1.0   99094.0  099095.jpg  099095.jpg          0     1.jpg\n",
       "2  2.0  200121.0  200122.jpg  200122.jpg          2     2.jpg\n",
       "3  3.0   81059.0  081060.jpg  081060.jpg          0     3.jpg\n",
       "4  4.0  202040.0  202041.jpg  202041.jpg          2     4.jpg"
      ]
     },
     "execution_count": 132,
     "metadata": {},
     "output_type": "execute_result"
    }
   ],
   "source": [
    "idx_list = df_comp['idx'].astype(int).astype(str).tolist()\n",
    "file_name_list=[s + '.jpg' for s in idx_list]\n",
    "df_comp['file_name']=file_name_list\n",
    "df_comp.head(5)"
   ]
  },
  {
   "cell_type": "code",
   "execution_count": 134,
   "metadata": {},
   "outputs": [],
   "source": [
    "df_now = df_comp[df_comp['partition']==0]\n",
    "list_file_name=df_now['file_name'].values.tolist()\n",
    "list_img_path=df_now['orig_file'].values.tolist()\n",
    "list_img_name=df_now['file_name'].values.tolist()\n",
    "PATH_CELEB_HQ = \"D:\\Dataset\\CelebAMask-HQ\\CelebA-HQ-img\"\n",
    "\n",
    "# Copy CelebA HQ 512x512 to HR folder\n",
    "for idx,file_name in enumerate(list_file_name[:10000]):\n",
    "    path_dst =\"D:/Dataset/FFHQ_work/celeba_hr_train/\"\n",
    "    if not os.path.exists(path_dst):\n",
    "        os.makedirs(path_dst)\n",
    "    \n",
    "    src_file = os.path.join(PATH_CELEB_HQ,file_name)\n",
    "    src_img = Image.open(src_file).resize((512,512),PIL.Image.BICUBIC)\n",
    "    path_dst = os.path.join(path_dst,file_name)\n",
    "    src_img.save(path_dst)"
   ]
  },
  {
   "cell_type": "code",
   "execution_count": null,
   "metadata": {},
   "outputs": [],
   "source": [
    "\n",
    "# Copy original CelebA to LR folder\n",
    "for idx,file_name in enumerate(list_file_name[:10000]):\n",
    "    path_dst =\"D:/Dataset/FFHQ_work/celeba_hq_train/\"\n",
    "    if not os.path.exists(path_dst):\n",
    "        os.makedirs(path_dst)\n",
    "\n",
    "    img_path_hr = os.path.join(path_celeb_img,list_img_path[idx])\n",
    "    path_dst = os.path.join(path_dst,file_name)\n",
    "    shutil.copy2(img_path,path_dst)\n"
   ]
  },
  {
   "cell_type": "code",
   "execution_count": null,
   "metadata": {},
   "outputs": [],
   "source": [
    "df_now = df_comp[df_comp['partition']==0]\n",
    "list_file_name=df_now['file_name'].values.tolist()\n",
    "list_img_path=df_now['orig_file'].values.tolist()\n",
    "list_img_name=df_now['file_name'].values.tolist()\n",
    "\n",
    "for idx,file_name in enumerate(list_file_name[:10000]):\n",
    "    img_path = os.path.join(path_celeb_img,list_img_path[idx])\n",
    "    path_dst = os.path.join(\"D:/Dataset/FFHQ_work/celeba_hq_train/\",file_name)\n",
    "    shutil.copy2(img_path,path_dst)"
   ]
  },
  {
   "cell_type": "code",
   "execution_count": null,
   "metadata": {},
   "outputs": [],
   "source": [
    "df_now = df_comp[df_comp['partition']==0]\n",
    "list_file_name=df_now['file_name'].values.tolist()\n",
    "list_img_path=df_now['orig_file'].values.tolist()\n",
    "list_img_name=df_now['file_name'].values.tolist()\n",
    "\n",
    "for idx,file_name in enumerate(list_file_name[:10000]):\n",
    "    img_path = os.path.join(path_celeb_img,list_img_path[idx])\n",
    "    path_dst = os.path.join(\"D:/Dataset/FFHQ_work/celeba_hq_train/\",file_name)\n",
    "    shutil.copy2(img_path,path_dst)"
   ]
  },
  {
   "cell_type": "code",
   "execution_count": 111,
   "metadata": {},
   "outputs": [
    {
     "data": {
      "text/plain": [
       "(24183, 5)"
      ]
     },
     "execution_count": 111,
     "metadata": {},
     "output_type": "execute_result"
    }
   ],
   "source": [
    "df_comp[df_comp['partition']==0].shape"
   ]
  },
  {
   "cell_type": "code",
   "execution_count": 112,
   "metadata": {},
   "outputs": [
    {
     "data": {
      "text/plain": [
       "(2993, 5)"
      ]
     },
     "execution_count": 112,
     "metadata": {},
     "output_type": "execute_result"
    }
   ],
   "source": [
    "df_comp[df_comp['partition']==1].shape"
   ]
  },
  {
   "cell_type": "code",
   "execution_count": 113,
   "metadata": {},
   "outputs": [
    {
     "data": {
      "text/plain": [
       "(2824, 5)"
      ]
     },
     "execution_count": 113,
     "metadata": {},
     "output_type": "execute_result"
    }
   ],
   "source": [
    "df_comp[df_comp['partition']==2].shape"
   ]
  }
 ],
 "metadata": {
  "interpreter": {
   "hash": "05d80e6c445678b4a1be8e0618b5d2b23d41a47155661a65475ed3bbc30374f1"
  },
  "kernelspec": {
   "display_name": "Python 3.8.5 64-bit ('base': conda)",
   "name": "python3"
  },
  "language_info": {
   "codemirror_mode": {
    "name": "ipython",
    "version": 3
   },
   "file_extension": ".py",
   "mimetype": "text/x-python",
   "name": "python",
   "nbconvert_exporter": "python",
   "pygments_lexer": "ipython3",
   "version": "3.8.5"
  },
  "orig_nbformat": 4
 },
 "nbformat": 4,
 "nbformat_minor": 2
}
